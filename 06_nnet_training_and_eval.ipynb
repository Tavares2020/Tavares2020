{
  "cells": [
    {
      "cell_type": "markdown",
      "metadata": {
        "id": "view-in-github",
        "colab_type": "text"
      },
      "source": [
        "<a href=\"https://colab.research.google.com/github/Tavares2020/Tavares2020/blob/main/06_nnet_training_and_eval.ipynb\" target=\"_parent\"><img src=\"https://colab.research.google.com/assets/colab-badge.svg\" alt=\"Open In Colab\"/></a>"
      ]
    },
    {
      "cell_type": "markdown",
      "id": "3ffcdb72",
      "metadata": {
        "id": "3ffcdb72",
        "tags": [
          "editable",
          "false"
        ]
      },
      "source": [
        "# **FICO Analytic Challenge © Fair Isaac 2025**"
      ]
    },
    {
      "cell_type": "markdown",
      "id": "2af35c47",
      "metadata": {
        "id": "2af35c47"
      },
      "source": [
        "# Week 6: Neural Networks: Training and Evaluation"
      ]
    },
    {
      "cell_type": "markdown",
      "id": "5c322aae",
      "metadata": {
        "id": "5c322aae"
      },
      "source": [
        "### **<font color=\"MediumSpringGreen\">Neural Network vs. Logistic Regression</font>**\n",
        "\n",
        "Last week you learned about Logistic Regression, which is a linear machine learning algorithm. This week we're looking at neural networks (NNets), a more sophisticated machine learning algorithm.\n",
        "\n",
        "As you learned from last weeks material, Logistic Regression assumes a linear relationship between the input features and the output. This means that it cannot capture the complexity and non-linearity of the data. Another drawback is that it is sensitive to outliers and noise, which can affect the accuracy and stability of the model. Logistic regression also has a limited capacity to learn from multiple features, as it can only combine them linearly.\n",
        "\n",
        "Neural network is a type of non-linear model that mimics the structure and function of the human brain. It consists of layers of nodes, also called neurons, that are connected by weights. The input layer receives the input features, and the output layer produces the output. Between them, there are hidden layers that perform computations and transformations on the data. Neural network uses a non-linear activation function to introduce non-linearity and flexibility to the model. Below are some pro's and con's of a neural network.\n",
        "\n",
        "Pros:\n",
        "- Can handle non-linear data better, as it can learn complex and non-linear patterns and relationships from the data.\n",
        "- Can learn from multiple features, as it can combine them in different ways and create new features.\n",
        "- Has a high capacity and scalability, as it can handle large and high-dimensional data and add more layers and nodes as needed.\n",
        "\n",
        "Cons:\n",
        "- More of a blackbox\n",
        "    - Has a low interpretability and transparency, as it is hard to explain how it makes decisions and what are the effects of the weights and layers.\n",
        "- Requires more data and computational resources, as it has more parameters and operations to perform.\n",
        "- Prone to overfitting and underfitting, which means that it can either memorize the training data or fail to generalize to new data.\n",
        "\n",
        "\n",
        "### **<font color=\"MediumSpringGreen\">Neural Network vs. Human Brain</font>**\n",
        "A neural network is like a simplified version of a human brain, and the basic building block of this network is called a perceptron. Here's a simplified explanation:\n",
        "\n",
        "1. Nodes and Neurons:\n",
        "    - **<font color=\"Plum\">Brain:</font>** In the human brain, you have neurons that receive, process, and transmit information.\n",
        "    - **<font color=\"Turquoise\">Neural Network:</font>** In a neural network, you have nodes (or artificial neurons) that do the same job. Each node receives inputs, processes them, and produces an output.\n",
        "2. Inputs and Connections:\n",
        "    - **<font color=\"Plum\">Brain:</font>** Neurons receive signals from other neurons though connections called synapses\n",
        "    - **<font color=\"Turquoise\">Neural Network:</font>** Each node receives inputs, which can come from various sources (like data features or other nodes in the network).\n",
        "3. Weights and Synaptic Strength:\n",
        "    - **<font color=\"Plum\">Brain:</font>** The connections (synapses) between neurons have different strengths, determining how much influence one neuron has on another.\n",
        "    - **<font color=\"Turquoise\">Neural Network:</font>** In a neural network, each input to a node is multiplied by a weight, which determines the importance of that input.\n",
        "4. Summation and Activation:\n",
        "    - **<font color=\"Plum\">Brain:</font>** A neuron adds up all the incoming signals. If the total is strong enough, the neuron fires and sends a signal forward.\n",
        "    - **<font color=\"Turquoise\">Neural Network:</font>** A node also adds up all the weighted inputs. This sum is then passed through an activation function that decides if the node should activate (produce an output).\n",
        "5. Bias:\n",
        "    - **<font color=\"Plum\">Brain:</font>** Neurons have a threshold they need to reach to fire.\n",
        "    - **<font color=\"Turquoise\">Neural Network:</font>** Nodes have a bias term that helps adjust the activation threshold, making the network more flexible.\n",
        "6. Learning and Adjustment:\n",
        "    - **<font color=\"Plum\">Brain:</font>** Neurons learn and adjust their connections based on experience.\n",
        "    - **<font color=\"Turquoise\">Neural Network:</font>** Nodes adjust their weights and biases during training to improve their performance, similar to how neurons adapt.\n",
        "\n",
        "### **<font color=\"MediumSpringGreen\">The Perceptron</font>**\n",
        "\n",
        "A perceptron is the simplest form of a neural network:\n",
        "- It has input nodes that receive data.\n",
        "- These inputs are multiplied by weights and summed up.\n",
        "- A bias term is added to this sum.\n",
        "- The total is passed through an activation function to produce an output.\n",
        "    \n",
        "The perceptron learns by adjusting its weights and bias based on the errors it makes, gradually improving its decision-making ability. In essence, a neural network with percetrons mimics the basic functioning of the brain by processing inputs, making decisions, and learning from mistakes.\n",
        "\n",
        "<figure>\n",
        "<center>\n",
        "<img src = https://learn.circuit.rocks/wp-content/uploads/2020/12/Perceptron-750x551.png width = \"600\" style=\"margin:50px 0px 50px 0px\">\n",
        "<figcaption>Perceptron</figcaption></center>\n",
        "</figure>\n",
        "\n",
        "[Perceptron Source](https://learn.circuit.rocks/wp-content/uploads/2020/12/Perceptron-750x551.png)\n",
        "\n",
        "\n",
        "## **<font color=\"MediumSpringGreen\">What is a Neural Network?</font>**\n",
        "\n",
        "<p> A neural network (NNet) is a system or hardware that is designed to operate like a human brain. An NNet is usually described as having different layers, where the architecture consists of the following:</p>\n",
        "\n",
        "- **<font color=\"Plum\">Input layer:</font>** This layer receives the raw data or features, and each neuron represents an input feature.\n",
        "    - The number of neurons in the input layer is equivalent to the number of features in the data.\n",
        "- **<font color=\"Plum\">Hidden layer (which we at FICO refer to as Latent Features):</font>** These layers perform complex transformations on the input data.\n",
        "    - A neural network can have multiple hidden layers, and each layer can contain multiple neurons.\n",
        "    - The more hidden layers there are, the more complex the network.\n",
        "    - Helps find relationships between non-linear input fields.\n",
        "- **<font color=\"Plum\">Output layer:</font>** The final layer provides the network’s predictions or outputs.\n",
        "    - The number of neurons in the output layer depends on the specific problem, such as binary classification, multi-class classification, or regression.\n",
        "- **<font color=\"Plum\">Neurons:</font>** Each layer has a collection of neurons interacting with neurons in other layers.\n",
        "- **<font color=\"Plum\">Weight:</font>** Its main function is to give importance to those features that contribute more towards the learning.\n",
        "    - It does so by introducing scalar multiplication between the input value and the weight matrix.\n",
        "- **<font color=\"Plum\">Bias:</font>** The role of bias is to shift the value produced by the activation function.\n",
        "    - Its role is like the role of a constant in a linear function.\n",
        "- **<font color=\"Plum\">Activation function:</font>** Performs non-linear transformations to help the model learn complex patterns from the data.\n",
        "\n",
        "<figure>\n",
        "<center>\n",
        "<img src = https://clevertap.com/wp-content/uploads/2019/04/Blog_APR_C.png width = \"600\" style=\"margin:50px 0px 50px 0px\">\n",
        "<figcaption>Feed Forward Neural Net</figcaption></center>\n",
        "</figure>\n",
        "\n",
        "[Neural Network Source](https://clevertap.com/wp-content/uploads/2019/04/Blog_APR_C.png)\n",
        "\n",
        "<figure>\n",
        "<center>\n",
        "<img src = https://www.datasciencecentral.com/wp-content/uploads/2021/10/401938861.jpeg width = \"600\" style=\"margin:50px 0px 50px 0px\">\n",
        "<figcaption>Sum of Values and Activation</figcaption></center>\n",
        "</figure>\n",
        "\n",
        "[Sum and Activation Source](https://www.datasciencecentral.com/wp-content/uploads/2021/10/401938861.jpeg)\n",
        "\n",
        "\n",
        "\n",
        "## **<font color=\"MediumSpringGreen\">PyTorch and Modeling Steps</font>**\n",
        "<p>PyTorch is the open-source deep learning framework developed and maintained by Facebook, which we will use to develop our NNet. Below are general steps to training an NNet with PyTorch:</p>\n",
        "\n",
        "1. Load and Preprocess Input Features\n",
        "    - Impute missing values\n",
        "    - Treat Categorical Values\n",
        "2. Split Input Features into 2 Partitions\n",
        "    - Train set\n",
        "    - Validation set (which we've been referring to as Test set)\n",
        "3. Normalize (Scale) Features\n",
        "    - Use entire dataset to set scaling and save scaler to scaling file\n",
        "        - Scaling is used to avoid features with larger values having a disproportionate impact on the results\n",
        "        - Use scaler variable on the Train set\n",
        "4. Create DataLoaders and Load Normalized Features\n",
        "    - It is designed to handle large datasets and perform data augmentation, shuffling, and other preprocessing tasks\n",
        "5. Setup NNet\n",
        "    - Define NNet\n",
        "    - Define Loss Function and Optimizer\n",
        "6. Hyper-Parameters\n",
        "    - Define the values for the models internal workings\n",
        "7. Train and Evaluate Model\n",
        "    - Train the model using the Train set and evaluate it using the Test sets\n",
        "8. Save Converged Model\n",
        "9. `Predictions on Dataset using Trained Model`\n",
        "    - Use on entire data to get predictions  \n",
        "    - Store predictions into new column\n",
        "    - Convert predictions to **Score outs**\n",
        "10. Export data to CSV\n",
        "    - Export entire dataset, including model predictions to csv to evaluate overall performance\n"
      ]
    },
    {
      "cell_type": "markdown",
      "id": "83e69281",
      "metadata": {
        "id": "83e69281"
      },
      "source": [
        "### Import the required libraries"
      ]
    },
    {
      "cell_type": "code",
      "execution_count": null,
      "id": "89nJhVc2qwg2",
      "metadata": {
        "id": "89nJhVc2qwg2",
        "colab": {
          "base_uri": "https://localhost:8080/"
        },
        "outputId": "b7fdb12e-7b13-4521-b9ad-e0f1eea00207"
      },
      "outputs": [
        {
          "output_type": "stream",
          "name": "stdout",
          "text": [
            "Mounted at /content/drive/\n",
            "/content/drive/MyDrive/FICO Analytic Challenge\n"
          ]
        }
      ],
      "source": [
        "import os\n",
        "import sys\n",
        "from google.colab import drive\n",
        "\n",
        "# Mount Google Drive\n",
        "drive.mount('/content/drive/', force_remount=True)\n",
        "\n",
        "# Base path for your project\n",
        "path = '/content/drive/MyDrive/FICO Analytic Challenge'\n",
        "\n",
        "# Folder that's holding dataset\n",
        "data = 'Data'\n",
        "\n",
        "# Model Folder's name\n",
        "modelFolder='Model'\n",
        "\n",
        "# Model's prefix name; Used to distinguish model's output files\n",
        "model='NNet'\n",
        "\n",
        "# Path to the \"Data\" and \"Model\" folder\n",
        "data_path = os.path.join(path, data)\n",
        "model_path = os.path.join(path, modelFolder)\n",
        "\n",
        "# Path to location where trained model will be saved. Create the directory if it doesn't exist\n",
        "os.makedirs(model_path, exist_ok = True)\n",
        "\n",
        "# import scale file\n",
        "scaleFilePrefix='scaler'\n",
        "scaleFile = os.path.join(model_path, scaleFilePrefix + '.' + model + '.' + data + \".pkl\")\n",
        "scaleFileFeatures = os.path.join(model_path, scaleFilePrefix + '.' + model + '.' + data + '.features' + \".txt\")\n",
        "\n",
        "# Subdirectories to include in sys.path\n",
        "subdirectories = [data, 'DNU_Functions', modelFolder] + [f'Week_{str(i).zfill(2)}' for i in range(12)]\n",
        "\n",
        "# Add each subdirectory to sys.path\n",
        "for subdir in subdirectories:\n",
        "    sys.path.append(os.path.join(path, subdir))\n",
        "\n",
        "# Change working directory to the base path\n",
        "os.chdir(path)\n",
        "print(os.getcwd())"
      ]
    },
    {
      "cell_type": "code",
      "source": [
        "%load_ext autoreload\n",
        "%autoreload 2"
      ],
      "metadata": {
        "id": "x0gkDgPRN_yd"
      },
      "id": "x0gkDgPRN_yd",
      "execution_count": null,
      "outputs": []
    },
    {
      "cell_type": "code",
      "execution_count": null,
      "id": "6d550f59-a88d-481c-9389-2af576bfa65a",
      "metadata": {
        "id": "6d550f59-a88d-481c-9389-2af576bfa65a"
      },
      "outputs": [],
      "source": [
        "import copy\n",
        "import time\n",
        "import pandas as pd\n",
        "import numpy as np\n",
        "from pickle import dump, load\n",
        "from fico_functions import *\n",
        "from IPython.display import display, Math, Latex, Image\n",
        "\n",
        "# Pytorch libraries\n",
        "import torch\n",
        "import torch.nn as nn\n",
        "from torch.utils.data import Dataset, DataLoader\n",
        "\n",
        "# Sci-kit learn libraries\n",
        "from sklearn.metrics import roc_auc_score, roc_curve\n",
        "from sklearn.preprocessing import MinMaxScaler, StandardScaler\n",
        "\n",
        "# Plotting library\n",
        "import matplotlib.pyplot as plt\n",
        "import matplotlib.ticker as ticker\n",
        "\n",
        "%matplotlib inline\n",
        "%config InlineBackend.figure_format = 'retina'\n",
        "\n",
        "import warnings\n",
        "warnings.filterwarnings('ignore')\n",
        "\n",
        "# Removing limitation in viewing pandas columns and rows\n",
        "pd.set_option('display.max_columns', None, 'display.max_rows', None)"
      ]
    },
    {
      "cell_type": "markdown",
      "id": "1f5dab9d",
      "metadata": {
        "id": "1f5dab9d"
      },
      "source": [
        "###  Place to save the model & checking we're using the desired hardware <font color='red'>(**Do Not Modify**)</font>\n",
        "\n",
        "A new directory will be created (**model**) in the trunk, where the trained model will be saved."
      ]
    },
    {
      "cell_type": "code",
      "execution_count": null,
      "id": "90d0c435",
      "metadata": {
        "id": "90d0c435",
        "colab": {
          "base_uri": "https://localhost:8080/"
        },
        "outputId": "0d91bd90-3f65-4b0f-f373-17f752546735"
      },
      "outputs": [
        {
          "output_type": "stream",
          "name": "stdout",
          "text": [
            "No GPU available. Training will run on CPU.\n"
          ]
        }
      ],
      "source": [
        "# Checking GPU compatibility\n",
        "if torch.cuda.is_available():\n",
        "    print(f\"GPU: {torch.cuda.get_device_name(0)} is available.\")\n",
        "else:\n",
        "    print(\"No GPU available. Training will run on CPU.\")"
      ]
    },
    {
      "cell_type": "code",
      "execution_count": null,
      "id": "b6e60452",
      "metadata": {
        "id": "b6e60452",
        "colab": {
          "base_uri": "https://localhost:8080/"
        },
        "outputId": "b503370a-d6e7-4372-85d4-befad65c8c34"
      },
      "outputs": [
        {
          "output_type": "stream",
          "name": "stdout",
          "text": [
            "cpu\n"
          ]
        }
      ],
      "source": [
        "device = torch.device(\"cuda:0\" if torch.cuda.is_available() else \"cpu\")\n",
        "print(device)"
      ]
    },
    {
      "cell_type": "markdown",
      "id": "c31f9b5e",
      "metadata": {
        "id": "c31f9b5e"
      },
      "source": [
        "### Data Location\n",
        "- **<font color='lightgreen'>train_features.csv</font>** will be used for training\n",
        "  - should be created from week 4\n",
        "- **<font color='DeepSkyBlue'>test_A_features.csv</font>** will be used as the validation/test dataset\n",
        "  - should be created from week 4"
      ]
    },
    {
      "cell_type": "markdown",
      "id": "8ab660e5",
      "metadata": {
        "id": "8ab660e5"
      },
      "source": [
        "### Importing Required Datasets <font color='red'>(**Do Not Modify**)</font>"
      ]
    },
    {
      "cell_type": "code",
      "source": [
        "# dataset file prefix\n",
        "trainFile = ['train']\n",
        "testFile = ['test_A']\n",
        "\n",
        "# Set to \"True\" if importing base dataset; default is False\n",
        "base=False\n",
        "\n",
        "# Set to \"True\" if creating advanced features; default is False\n",
        "creatingAdvancedFeatures=False\n",
        "\n",
        "# Set to \"True\" if using advanced features, \"False\" if using regular features and not base; default is False\n",
        "usingAdvancedFeatures=False\n",
        "\n",
        "# CSV filename and where outputs will be saved\n",
        "trainCSV, trainsaveCSV, _ = featuresFileSuffix(data_path, trainFile, creatingAdvancedFeatures, usingAdvancedFeatures, base=base, model=model, scaleFilePrefix=scaleFilePrefix)\n",
        "testCSV, testsaveCSV, _ = featuresFileSuffix(data_path, testFile, creatingAdvancedFeatures, usingAdvancedFeatures, base=base, model=model, scaleFilePrefix=scaleFilePrefix)"
      ],
      "metadata": {
        "id": "OEUFi102lrQg",
        "colab": {
          "base_uri": "https://localhost:8080/"
        },
        "outputId": "6e14d23c-4bc1-4752-9b1c-42530c1ad593"
      },
      "id": "OEUFi102lrQg",
      "execution_count": null,
      "outputs": [
        {
          "output_type": "stream",
          "name": "stdout",
          "text": [
            "Using \u001b[1;31mtrain_features.csv\u001b[0m to train model and/or produce scoreouts and perf metrics\n",
            "\u001b[1;32mFile 1:\u001b[0m /content/drive/MyDrive/FICO Analytic Challenge/Data/train_features.csv\n",
            "\u001b[1;32mFile 2:\u001b[0m /content/drive/MyDrive/FICO Analytic Challenge/Data/score.NNet.train_features.scaler.csv\n",
            "\n",
            "Using \u001b[1;31mtest_A_features.csv\u001b[0m to train model and/or produce scoreouts and perf metrics\n",
            "\u001b[1;32mFile 1:\u001b[0m /content/drive/MyDrive/FICO Analytic Challenge/Data/test_A_features.csv\n",
            "\u001b[1;32mFile 2:\u001b[0m /content/drive/MyDrive/FICO Analytic Challenge/Data/score.NNet.test_A_features.scaler.csv\n",
            "\n"
          ]
        }
      ]
    },
    {
      "cell_type": "markdown",
      "id": "8e2f6930",
      "metadata": {
        "id": "8e2f6930"
      },
      "source": [
        "### Function to Load Dataset & Apply Specific Modifications\n",
        "\n",
        "The imported functions are in **fico_functions.py**. Towards the end of the notebook, the predictions will be saved, along with the imported columns. As a reminder, once a column is dropped from a dataframe, the dropped columns need to be re-imported and appended to the modified dataframe if you want to save them later."
      ]
    },
    {
      "cell_type": "markdown",
      "id": "56b46de5",
      "metadata": {
        "id": "56b46de5"
      },
      "source": [
        "#### Import Datasets & Check Head of Each"
      ]
    },
    {
      "cell_type": "code",
      "execution_count": null,
      "id": "08804763",
      "metadata": {
        "id": "08804763"
      },
      "outputs": [],
      "source": [
        "df_features_train = import_df(trainCSV)"
      ]
    },
    {
      "cell_type": "markdown",
      "id": "ca39a1eb",
      "metadata": {
        "id": "ca39a1eb"
      },
      "source": [
        "### Lists Containing Names of Input Features and Label Columns <font color='red'>(**Do Not Modify**)</font>\n",
        "\n",
        "The features used as input to the model need to be specified here, and the column for the output must be placed in label_column. Since our target is fraud or not, the target column should be a column that has a binary value (e.g., 0 for not Fraud, and 1 for Fraud). In our case, its ``mdlIsFraudTrx``."
      ]
    },
    {
      "cell_type": "code",
      "source": [
        "# Get list of feature columns, base columns and label column\n",
        "feature_columns, label_column, base_cols = get_feature_cols(df_features_train, trainFile)"
      ],
      "metadata": {
        "id": "VIoTS2vhhMlB",
        "colab": {
          "base_uri": "https://localhost:8080/"
        },
        "outputId": "f904954c-13bb-4755-ec37-23fba526277b"
      },
      "id": "VIoTS2vhhMlB",
      "execution_count": null,
      "outputs": [
        {
          "output_type": "stream",
          "name": "stdout",
          "text": [
            "\u001b[1;33mColumns in:\u001b[0m train\n",
            "Number of Columns in Base: 27\n",
            "Base Columns: ['merchCountry', 'gender', 'merch_long', 'zip', 'mdlIsFraudTrx', 'deltaTime', 'mdlIsFraudAcct', 'transactionDateTime', 'street', 'city_pop', 'cardholderState', 'pan', 'merchState', 'unix_time', 'lat', 'merchant', 'first', 'long', 'trans_num', 'last', 'job', 'dob', 'category', 'merch_lat', 'cardholderCountry', 'transactionAmount', 'is_train']\n",
            "Number of Features: 34\n",
            "Input Features: ['IsHighValue', 'RelativeAmount', 'amount_diff', 'amt_trend_24h', 'amt_trend_5e', 'category_ratio', 'count_trend_1h', 'is_CNP', 'is_CP', 'is_high_amount', 'is_high_inperson', 'is_high_merch_country', 'is_high_online', 'is_high_person', 'is_high_repeat_amount', 'is_high_trans_freq', 'is_high_trans_freq_user_avg_vol', 'is_high_transaction_amount', 'is_high_transaction_amount_user_avg', 'is_high_volume', 'is_international', 'is_late_night', 'num_hi_amt_last_hour', 'num_last_24_hours', 'num_transactions', 'repeat_amt', 'transactionFrequency', 'transactionHour', 'user_avg_amount', 'user_avg_amount_month', 'user_avg_amount_week', 'user_avg_volume', 'user_avg_volume_month', 'user_avg_volume_week']\n",
            "Label Column: ['mdlIsFraudTrx']\n",
            "\n"
          ]
        }
      ]
    },
    {
      "cell_type": "code",
      "source": [
        "df_features_test = import_df(testCSV)"
      ],
      "metadata": {
        "id": "Cv5Ds_4e8QON"
      },
      "id": "Cv5Ds_4e8QON",
      "execution_count": null,
      "outputs": []
    },
    {
      "cell_type": "code",
      "source": [
        "print(\"\\033[1mNNet\\033[0m\")\n",
        "dataset_count(df_features_train, df_isTrain=True)"
      ],
      "metadata": {
        "id": "GSNvPheKgrFE",
        "colab": {
          "base_uri": "https://localhost:8080/"
        },
        "outputId": "8fe2062e-7d63-4830-87f6-0dddbc261917"
      },
      "id": "GSNvPheKgrFE",
      "execution_count": null,
      "outputs": [
        {
          "output_type": "stream",
          "name": "stdout",
          "text": [
            "\u001b[1mNNet\u001b[0m\n",
            "\u001b[1;32mTrain Set\u001b[0m\n",
            "\u001b[1;31m# of Unique PANs\u001b[0m = 1042\n",
            "# of NF and F Accounts = 1042\n",
            "# of Non-Fraud Accounts = 411\n",
            "# of Fraud Accounts = 631\n",
            "----------\n",
            "# of Transactions = 1050475\n",
            "# of Non-Fraud Transactions = 1043500\n",
            "# of Fraud Transactions = 6975\n",
            "----------\n",
            "\u001b[1;34mAccount Level\u001b[0m Fraud Rate = 0.6056\n",
            "\u001b[1;34mTransaction level\u001b[0m Fraud Rate = 0.0066\n",
            "# of Fraud Transactions / # of Fraud Accounts = 11.0539\n"
          ]
        }
      ]
    },
    {
      "cell_type": "code",
      "source": [
        "print(\"\\033[1mNNet\\033[0m\")\n",
        "dataset_count(df_features_test, df_isTrain=False)"
      ],
      "metadata": {
        "id": "YPXsXJhygrCu",
        "colab": {
          "base_uri": "https://localhost:8080/"
        },
        "outputId": "3f5ee331-0d48-4e04-c318-c851f6a9757e"
      },
      "id": "YPXsXJhygrCu",
      "execution_count": null,
      "outputs": [
        {
          "output_type": "stream",
          "name": "stdout",
          "text": [
            "\u001b[1mNNet\u001b[0m\n",
            "\u001b[1;32mTest Set\u001b[0m\n",
            "\u001b[1;31m# of Unique PANs\u001b[0m = 510\n",
            "# of NF and F Accounts = 510\n",
            "# of Non-Fraud Accounts = 244\n",
            "# of Fraud Accounts = 266\n",
            "----------\n",
            "# of Transactions = 561005\n",
            "# of Non-Fraud Transactions = 558481\n",
            "# of Fraud Transactions = 2524\n",
            "----------\n",
            "\u001b[1;34mAccount Level\u001b[0m Fraud Rate = 0.5216\n",
            "\u001b[1;34mTransaction level\u001b[0m Fraud Rate = 0.0045\n",
            "# of Fraud Transactions / # of Fraud Accounts = 9.4887\n"
          ]
        }
      ]
    },
    {
      "cell_type": "code",
      "execution_count": null,
      "id": "e7022270",
      "metadata": {
        "id": "e7022270",
        "colab": {
          "base_uri": "https://localhost:8080/",
          "height": 399
        },
        "outputId": "692647b8-dc01-4783-8846-8cd04bedaac8"
      },
      "outputs": [
        {
          "output_type": "execute_result",
          "data": {
            "text/plain": [
              "                 pan     merchant      category  transactionAmount   first  \\\n",
              "0  T001028354037962B  Zboncak LLC   grocery_pos            1338.57  Melody   \n",
              "1  T001028354037962B  Zboncak LLC  shopping_pos            1189.84  Melody   \n",
              "2  T001028354037962B  Zboncak LLC      misc_pos             743.65  Melody   \n",
              "3  T001028354037962B  Zboncak LLC   grocery_pos            1338.57  Melody   \n",
              "4  T001028354037962B  Zboncak LLC   food_dining            1189.84  Melody   \n",
              "\n",
              "       last gender              street    zip      lat     long  city_pop  \\\n",
              "0  Thompson      F  0362 Anderson Wall  64470  40.1362 -95.2138      1631   \n",
              "1  Thompson      F  0362 Anderson Wall  64470  40.1362 -95.2138      1631   \n",
              "2  Thompson      F  0362 Anderson Wall  64470  40.1362 -95.2138      1631   \n",
              "3  Thompson      F  0362 Anderson Wall  64470  40.1362 -95.2138      1631   \n",
              "4  Thompson      F  0362 Anderson Wall  64470  40.1362 -95.2138      1631   \n",
              "\n",
              "         job         dob                         trans_num   unix_time  \\\n",
              "0  Architect  1953-01-20  6f65ed65d3f36366420fc82e4f0a499a  1345224472   \n",
              "1  Architect  1953-01-20  6f65ed65d3f36366420fc82e4f0a499a  1345224472   \n",
              "2  Architect  1953-01-20  6f65ed65d3f36366420fc82e4f0a499a  1345224472   \n",
              "3  Architect  1953-01-20  6f65ed65d3f36366420fc82e4f0a499a  1345224472   \n",
              "4  Architect  1953-01-20  6f65ed65d3f36366420fc82e4f0a499a  1345224472   \n",
              "\n",
              "   merch_lat  merch_long  mdlIsFraudTrx  mdlIsFraudAcct transactionDateTime  \\\n",
              "0  40.199545  -95.393991              1               1 2020-09-17 15:27:52   \n",
              "1  40.199545  -95.393991              1               1 2020-09-17 15:41:52   \n",
              "2  40.199545  -95.393991              1               1 2020-09-17 15:55:52   \n",
              "3  40.199545  -95.393991              1               1 2020-09-17 16:09:52   \n",
              "4  40.199545  -95.393991              1               1 2020-09-17 16:23:52   \n",
              "\n",
              "   is_train merchCountry merchState cardholderCountry cardholderState  \\\n",
              "0         1           US   Missouri                US        Missouri   \n",
              "1         1           US   Missouri                US        Missouri   \n",
              "2         1           US   Missouri                US        Missouri   \n",
              "3         1           US   Missouri                US        Missouri   \n",
              "4         1           US   Missouri                US        Missouri   \n",
              "\n",
              "   num_hi_amt_last_hour  is_international  is_late_night  \\\n",
              "0                   1.0                 0              0   \n",
              "1                   2.0                 0              0   \n",
              "2                   3.0                 0              0   \n",
              "3                   4.0                 0              0   \n",
              "4                   5.0                 0              0   \n",
              "\n",
              "   user_avg_amount_month  is_CP  repeat_amt  transactionFrequency  \\\n",
              "0            1338.570000      1           0                   1.0   \n",
              "1            1264.205000      1           0                   2.0   \n",
              "2            1090.686667      1           0                   3.0   \n",
              "3            1152.657500      1           0                   3.0   \n",
              "4            1160.094000      1           0                   3.0   \n",
              "\n",
              "   user_avg_volume_month  num_last_24_hours  amt_trend_5e  category_ratio  \\\n",
              "0                   19.0                1.0   1338.570000             0.0   \n",
              "1                   19.0                2.0   1264.205000             0.0   \n",
              "2                   19.0                3.0   1090.686667             0.0   \n",
              "3                   19.0                4.0   1152.657500             0.0   \n",
              "4                   19.0                5.0   1160.094000             0.0   \n",
              "\n",
              "   is_high_trans_freq_user_avg_vol  is_high_inperson  is_high_person  \\\n",
              "0                                0                 0               1   \n",
              "1                                0                 0               1   \n",
              "2                                0                 0               1   \n",
              "3                                0                 0               1   \n",
              "4                                0                 0               1   \n",
              "\n",
              "   is_high_online  is_CNP  is_high_trans_freq  is_high_merch_country  \\\n",
              "0               0       0                   0                      0   \n",
              "1               0       0                   0                      0   \n",
              "2               0       0                   0                      0   \n",
              "3               0       0                   0                      0   \n",
              "4               0       0                   0                      0   \n",
              "\n",
              "   user_avg_amount_week  is_high_repeat_amount  deltaTime  amount_diff  \\\n",
              "0           1338.570000                      0        0.0         0.01   \n",
              "1           1264.205000                      0      840.0      -148.73   \n",
              "2           1090.686667                      0      840.0      -446.19   \n",
              "3           1152.657500                      0      840.0       594.92   \n",
              "4           1160.094000                      0      840.0      -148.73   \n",
              "\n",
              "   is_high_transaction_amount  user_avg_volume  RelativeAmount  \\\n",
              "0                           0             19.0        1.000000   \n",
              "1                           0             19.0        0.888889   \n",
              "2                           0             19.0        0.588235   \n",
              "3                           1             19.0        1.227273   \n",
              "4                           1             19.0        1.032258   \n",
              "\n",
              "   num_transactions  transactionHour  user_avg_amount  \\\n",
              "0                19               15      1338.570000   \n",
              "1                19               15      1338.570000   \n",
              "2                19               15      1264.205000   \n",
              "3                19               16      1090.686667   \n",
              "4                19               16      1152.657500   \n",
              "\n",
              "   is_high_transaction_amount_user_avg  user_avg_volume_week  amt_trend_24h  \\\n",
              "0                                    0                  19.0    1338.570000   \n",
              "1                                    0                  19.0    1264.205000   \n",
              "2                                    0                  19.0    1090.686667   \n",
              "3                                    1                  19.0    1152.657500   \n",
              "4                                    1                  19.0    1160.094000   \n",
              "\n",
              "   count_trend_1h  IsHighValue  is_high_volume  is_high_amount  \n",
              "0             1.0            1               1               1  \n",
              "1             2.0            1               1               1  \n",
              "2             3.0            1               1               1  \n",
              "3             4.0            1               1               1  \n",
              "4             5.0            1               1               1  "
            ],
            "text/html": [
              "\n",
              "  <div id=\"df-55e740c7-9e9a-4f07-a191-30dadb8d4a87\" class=\"colab-df-container\">\n",
              "    <div>\n",
              "<style scoped>\n",
              "    .dataframe tbody tr th:only-of-type {\n",
              "        vertical-align: middle;\n",
              "    }\n",
              "\n",
              "    .dataframe tbody tr th {\n",
              "        vertical-align: top;\n",
              "    }\n",
              "\n",
              "    .dataframe thead th {\n",
              "        text-align: right;\n",
              "    }\n",
              "</style>\n",
              "<table border=\"1\" class=\"dataframe\">\n",
              "  <thead>\n",
              "    <tr style=\"text-align: right;\">\n",
              "      <th></th>\n",
              "      <th>pan</th>\n",
              "      <th>merchant</th>\n",
              "      <th>category</th>\n",
              "      <th>transactionAmount</th>\n",
              "      <th>first</th>\n",
              "      <th>last</th>\n",
              "      <th>gender</th>\n",
              "      <th>street</th>\n",
              "      <th>zip</th>\n",
              "      <th>lat</th>\n",
              "      <th>long</th>\n",
              "      <th>city_pop</th>\n",
              "      <th>job</th>\n",
              "      <th>dob</th>\n",
              "      <th>trans_num</th>\n",
              "      <th>unix_time</th>\n",
              "      <th>merch_lat</th>\n",
              "      <th>merch_long</th>\n",
              "      <th>mdlIsFraudTrx</th>\n",
              "      <th>mdlIsFraudAcct</th>\n",
              "      <th>transactionDateTime</th>\n",
              "      <th>is_train</th>\n",
              "      <th>merchCountry</th>\n",
              "      <th>merchState</th>\n",
              "      <th>cardholderCountry</th>\n",
              "      <th>cardholderState</th>\n",
              "      <th>num_hi_amt_last_hour</th>\n",
              "      <th>is_international</th>\n",
              "      <th>is_late_night</th>\n",
              "      <th>user_avg_amount_month</th>\n",
              "      <th>is_CP</th>\n",
              "      <th>repeat_amt</th>\n",
              "      <th>transactionFrequency</th>\n",
              "      <th>user_avg_volume_month</th>\n",
              "      <th>num_last_24_hours</th>\n",
              "      <th>amt_trend_5e</th>\n",
              "      <th>category_ratio</th>\n",
              "      <th>is_high_trans_freq_user_avg_vol</th>\n",
              "      <th>is_high_inperson</th>\n",
              "      <th>is_high_person</th>\n",
              "      <th>is_high_online</th>\n",
              "      <th>is_CNP</th>\n",
              "      <th>is_high_trans_freq</th>\n",
              "      <th>is_high_merch_country</th>\n",
              "      <th>user_avg_amount_week</th>\n",
              "      <th>is_high_repeat_amount</th>\n",
              "      <th>deltaTime</th>\n",
              "      <th>amount_diff</th>\n",
              "      <th>is_high_transaction_amount</th>\n",
              "      <th>user_avg_volume</th>\n",
              "      <th>RelativeAmount</th>\n",
              "      <th>num_transactions</th>\n",
              "      <th>transactionHour</th>\n",
              "      <th>user_avg_amount</th>\n",
              "      <th>is_high_transaction_amount_user_avg</th>\n",
              "      <th>user_avg_volume_week</th>\n",
              "      <th>amt_trend_24h</th>\n",
              "      <th>count_trend_1h</th>\n",
              "      <th>IsHighValue</th>\n",
              "      <th>is_high_volume</th>\n",
              "      <th>is_high_amount</th>\n",
              "    </tr>\n",
              "  </thead>\n",
              "  <tbody>\n",
              "    <tr>\n",
              "      <th>0</th>\n",
              "      <td>T001028354037962B</td>\n",
              "      <td>Zboncak LLC</td>\n",
              "      <td>grocery_pos</td>\n",
              "      <td>1338.57</td>\n",
              "      <td>Melody</td>\n",
              "      <td>Thompson</td>\n",
              "      <td>F</td>\n",
              "      <td>0362 Anderson Wall</td>\n",
              "      <td>64470</td>\n",
              "      <td>40.1362</td>\n",
              "      <td>-95.2138</td>\n",
              "      <td>1631</td>\n",
              "      <td>Architect</td>\n",
              "      <td>1953-01-20</td>\n",
              "      <td>6f65ed65d3f36366420fc82e4f0a499a</td>\n",
              "      <td>1345224472</td>\n",
              "      <td>40.199545</td>\n",
              "      <td>-95.393991</td>\n",
              "      <td>1</td>\n",
              "      <td>1</td>\n",
              "      <td>2020-09-17 15:27:52</td>\n",
              "      <td>1</td>\n",
              "      <td>US</td>\n",
              "      <td>Missouri</td>\n",
              "      <td>US</td>\n",
              "      <td>Missouri</td>\n",
              "      <td>1.0</td>\n",
              "      <td>0</td>\n",
              "      <td>0</td>\n",
              "      <td>1338.570000</td>\n",
              "      <td>1</td>\n",
              "      <td>0</td>\n",
              "      <td>1.0</td>\n",
              "      <td>19.0</td>\n",
              "      <td>1.0</td>\n",
              "      <td>1338.570000</td>\n",
              "      <td>0.0</td>\n",
              "      <td>0</td>\n",
              "      <td>0</td>\n",
              "      <td>1</td>\n",
              "      <td>0</td>\n",
              "      <td>0</td>\n",
              "      <td>0</td>\n",
              "      <td>0</td>\n",
              "      <td>1338.570000</td>\n",
              "      <td>0</td>\n",
              "      <td>0.0</td>\n",
              "      <td>0.01</td>\n",
              "      <td>0</td>\n",
              "      <td>19.0</td>\n",
              "      <td>1.000000</td>\n",
              "      <td>19</td>\n",
              "      <td>15</td>\n",
              "      <td>1338.570000</td>\n",
              "      <td>0</td>\n",
              "      <td>19.0</td>\n",
              "      <td>1338.570000</td>\n",
              "      <td>1.0</td>\n",
              "      <td>1</td>\n",
              "      <td>1</td>\n",
              "      <td>1</td>\n",
              "    </tr>\n",
              "    <tr>\n",
              "      <th>1</th>\n",
              "      <td>T001028354037962B</td>\n",
              "      <td>Zboncak LLC</td>\n",
              "      <td>shopping_pos</td>\n",
              "      <td>1189.84</td>\n",
              "      <td>Melody</td>\n",
              "      <td>Thompson</td>\n",
              "      <td>F</td>\n",
              "      <td>0362 Anderson Wall</td>\n",
              "      <td>64470</td>\n",
              "      <td>40.1362</td>\n",
              "      <td>-95.2138</td>\n",
              "      <td>1631</td>\n",
              "      <td>Architect</td>\n",
              "      <td>1953-01-20</td>\n",
              "      <td>6f65ed65d3f36366420fc82e4f0a499a</td>\n",
              "      <td>1345224472</td>\n",
              "      <td>40.199545</td>\n",
              "      <td>-95.393991</td>\n",
              "      <td>1</td>\n",
              "      <td>1</td>\n",
              "      <td>2020-09-17 15:41:52</td>\n",
              "      <td>1</td>\n",
              "      <td>US</td>\n",
              "      <td>Missouri</td>\n",
              "      <td>US</td>\n",
              "      <td>Missouri</td>\n",
              "      <td>2.0</td>\n",
              "      <td>0</td>\n",
              "      <td>0</td>\n",
              "      <td>1264.205000</td>\n",
              "      <td>1</td>\n",
              "      <td>0</td>\n",
              "      <td>2.0</td>\n",
              "      <td>19.0</td>\n",
              "      <td>2.0</td>\n",
              "      <td>1264.205000</td>\n",
              "      <td>0.0</td>\n",
              "      <td>0</td>\n",
              "      <td>0</td>\n",
              "      <td>1</td>\n",
              "      <td>0</td>\n",
              "      <td>0</td>\n",
              "      <td>0</td>\n",
              "      <td>0</td>\n",
              "      <td>1264.205000</td>\n",
              "      <td>0</td>\n",
              "      <td>840.0</td>\n",
              "      <td>-148.73</td>\n",
              "      <td>0</td>\n",
              "      <td>19.0</td>\n",
              "      <td>0.888889</td>\n",
              "      <td>19</td>\n",
              "      <td>15</td>\n",
              "      <td>1338.570000</td>\n",
              "      <td>0</td>\n",
              "      <td>19.0</td>\n",
              "      <td>1264.205000</td>\n",
              "      <td>2.0</td>\n",
              "      <td>1</td>\n",
              "      <td>1</td>\n",
              "      <td>1</td>\n",
              "    </tr>\n",
              "    <tr>\n",
              "      <th>2</th>\n",
              "      <td>T001028354037962B</td>\n",
              "      <td>Zboncak LLC</td>\n",
              "      <td>misc_pos</td>\n",
              "      <td>743.65</td>\n",
              "      <td>Melody</td>\n",
              "      <td>Thompson</td>\n",
              "      <td>F</td>\n",
              "      <td>0362 Anderson Wall</td>\n",
              "      <td>64470</td>\n",
              "      <td>40.1362</td>\n",
              "      <td>-95.2138</td>\n",
              "      <td>1631</td>\n",
              "      <td>Architect</td>\n",
              "      <td>1953-01-20</td>\n",
              "      <td>6f65ed65d3f36366420fc82e4f0a499a</td>\n",
              "      <td>1345224472</td>\n",
              "      <td>40.199545</td>\n",
              "      <td>-95.393991</td>\n",
              "      <td>1</td>\n",
              "      <td>1</td>\n",
              "      <td>2020-09-17 15:55:52</td>\n",
              "      <td>1</td>\n",
              "      <td>US</td>\n",
              "      <td>Missouri</td>\n",
              "      <td>US</td>\n",
              "      <td>Missouri</td>\n",
              "      <td>3.0</td>\n",
              "      <td>0</td>\n",
              "      <td>0</td>\n",
              "      <td>1090.686667</td>\n",
              "      <td>1</td>\n",
              "      <td>0</td>\n",
              "      <td>3.0</td>\n",
              "      <td>19.0</td>\n",
              "      <td>3.0</td>\n",
              "      <td>1090.686667</td>\n",
              "      <td>0.0</td>\n",
              "      <td>0</td>\n",
              "      <td>0</td>\n",
              "      <td>1</td>\n",
              "      <td>0</td>\n",
              "      <td>0</td>\n",
              "      <td>0</td>\n",
              "      <td>0</td>\n",
              "      <td>1090.686667</td>\n",
              "      <td>0</td>\n",
              "      <td>840.0</td>\n",
              "      <td>-446.19</td>\n",
              "      <td>0</td>\n",
              "      <td>19.0</td>\n",
              "      <td>0.588235</td>\n",
              "      <td>19</td>\n",
              "      <td>15</td>\n",
              "      <td>1264.205000</td>\n",
              "      <td>0</td>\n",
              "      <td>19.0</td>\n",
              "      <td>1090.686667</td>\n",
              "      <td>3.0</td>\n",
              "      <td>1</td>\n",
              "      <td>1</td>\n",
              "      <td>1</td>\n",
              "    </tr>\n",
              "    <tr>\n",
              "      <th>3</th>\n",
              "      <td>T001028354037962B</td>\n",
              "      <td>Zboncak LLC</td>\n",
              "      <td>grocery_pos</td>\n",
              "      <td>1338.57</td>\n",
              "      <td>Melody</td>\n",
              "      <td>Thompson</td>\n",
              "      <td>F</td>\n",
              "      <td>0362 Anderson Wall</td>\n",
              "      <td>64470</td>\n",
              "      <td>40.1362</td>\n",
              "      <td>-95.2138</td>\n",
              "      <td>1631</td>\n",
              "      <td>Architect</td>\n",
              "      <td>1953-01-20</td>\n",
              "      <td>6f65ed65d3f36366420fc82e4f0a499a</td>\n",
              "      <td>1345224472</td>\n",
              "      <td>40.199545</td>\n",
              "      <td>-95.393991</td>\n",
              "      <td>1</td>\n",
              "      <td>1</td>\n",
              "      <td>2020-09-17 16:09:52</td>\n",
              "      <td>1</td>\n",
              "      <td>US</td>\n",
              "      <td>Missouri</td>\n",
              "      <td>US</td>\n",
              "      <td>Missouri</td>\n",
              "      <td>4.0</td>\n",
              "      <td>0</td>\n",
              "      <td>0</td>\n",
              "      <td>1152.657500</td>\n",
              "      <td>1</td>\n",
              "      <td>0</td>\n",
              "      <td>3.0</td>\n",
              "      <td>19.0</td>\n",
              "      <td>4.0</td>\n",
              "      <td>1152.657500</td>\n",
              "      <td>0.0</td>\n",
              "      <td>0</td>\n",
              "      <td>0</td>\n",
              "      <td>1</td>\n",
              "      <td>0</td>\n",
              "      <td>0</td>\n",
              "      <td>0</td>\n",
              "      <td>0</td>\n",
              "      <td>1152.657500</td>\n",
              "      <td>0</td>\n",
              "      <td>840.0</td>\n",
              "      <td>594.92</td>\n",
              "      <td>1</td>\n",
              "      <td>19.0</td>\n",
              "      <td>1.227273</td>\n",
              "      <td>19</td>\n",
              "      <td>16</td>\n",
              "      <td>1090.686667</td>\n",
              "      <td>1</td>\n",
              "      <td>19.0</td>\n",
              "      <td>1152.657500</td>\n",
              "      <td>4.0</td>\n",
              "      <td>1</td>\n",
              "      <td>1</td>\n",
              "      <td>1</td>\n",
              "    </tr>\n",
              "    <tr>\n",
              "      <th>4</th>\n",
              "      <td>T001028354037962B</td>\n",
              "      <td>Zboncak LLC</td>\n",
              "      <td>food_dining</td>\n",
              "      <td>1189.84</td>\n",
              "      <td>Melody</td>\n",
              "      <td>Thompson</td>\n",
              "      <td>F</td>\n",
              "      <td>0362 Anderson Wall</td>\n",
              "      <td>64470</td>\n",
              "      <td>40.1362</td>\n",
              "      <td>-95.2138</td>\n",
              "      <td>1631</td>\n",
              "      <td>Architect</td>\n",
              "      <td>1953-01-20</td>\n",
              "      <td>6f65ed65d3f36366420fc82e4f0a499a</td>\n",
              "      <td>1345224472</td>\n",
              "      <td>40.199545</td>\n",
              "      <td>-95.393991</td>\n",
              "      <td>1</td>\n",
              "      <td>1</td>\n",
              "      <td>2020-09-17 16:23:52</td>\n",
              "      <td>1</td>\n",
              "      <td>US</td>\n",
              "      <td>Missouri</td>\n",
              "      <td>US</td>\n",
              "      <td>Missouri</td>\n",
              "      <td>5.0</td>\n",
              "      <td>0</td>\n",
              "      <td>0</td>\n",
              "      <td>1160.094000</td>\n",
              "      <td>1</td>\n",
              "      <td>0</td>\n",
              "      <td>3.0</td>\n",
              "      <td>19.0</td>\n",
              "      <td>5.0</td>\n",
              "      <td>1160.094000</td>\n",
              "      <td>0.0</td>\n",
              "      <td>0</td>\n",
              "      <td>0</td>\n",
              "      <td>1</td>\n",
              "      <td>0</td>\n",
              "      <td>0</td>\n",
              "      <td>0</td>\n",
              "      <td>0</td>\n",
              "      <td>1160.094000</td>\n",
              "      <td>0</td>\n",
              "      <td>840.0</td>\n",
              "      <td>-148.73</td>\n",
              "      <td>1</td>\n",
              "      <td>19.0</td>\n",
              "      <td>1.032258</td>\n",
              "      <td>19</td>\n",
              "      <td>16</td>\n",
              "      <td>1152.657500</td>\n",
              "      <td>1</td>\n",
              "      <td>19.0</td>\n",
              "      <td>1160.094000</td>\n",
              "      <td>5.0</td>\n",
              "      <td>1</td>\n",
              "      <td>1</td>\n",
              "      <td>1</td>\n",
              "    </tr>\n",
              "  </tbody>\n",
              "</table>\n",
              "</div>\n",
              "    <div class=\"colab-df-buttons\">\n",
              "\n",
              "  <div class=\"colab-df-container\">\n",
              "    <button class=\"colab-df-convert\" onclick=\"convertToInteractive('df-55e740c7-9e9a-4f07-a191-30dadb8d4a87')\"\n",
              "            title=\"Convert this dataframe to an interactive table.\"\n",
              "            style=\"display:none;\">\n",
              "\n",
              "  <svg xmlns=\"http://www.w3.org/2000/svg\" height=\"24px\" viewBox=\"0 -960 960 960\">\n",
              "    <path d=\"M120-120v-720h720v720H120Zm60-500h600v-160H180v160Zm220 220h160v-160H400v160Zm0 220h160v-160H400v160ZM180-400h160v-160H180v160Zm440 0h160v-160H620v160ZM180-180h160v-160H180v160Zm440 0h160v-160H620v160Z\"/>\n",
              "  </svg>\n",
              "    </button>\n",
              "\n",
              "  <style>\n",
              "    .colab-df-container {\n",
              "      display:flex;\n",
              "      gap: 12px;\n",
              "    }\n",
              "\n",
              "    .colab-df-convert {\n",
              "      background-color: #E8F0FE;\n",
              "      border: none;\n",
              "      border-radius: 50%;\n",
              "      cursor: pointer;\n",
              "      display: none;\n",
              "      fill: #1967D2;\n",
              "      height: 32px;\n",
              "      padding: 0 0 0 0;\n",
              "      width: 32px;\n",
              "    }\n",
              "\n",
              "    .colab-df-convert:hover {\n",
              "      background-color: #E2EBFA;\n",
              "      box-shadow: 0px 1px 2px rgba(60, 64, 67, 0.3), 0px 1px 3px 1px rgba(60, 64, 67, 0.15);\n",
              "      fill: #174EA6;\n",
              "    }\n",
              "\n",
              "    .colab-df-buttons div {\n",
              "      margin-bottom: 4px;\n",
              "    }\n",
              "\n",
              "    [theme=dark] .colab-df-convert {\n",
              "      background-color: #3B4455;\n",
              "      fill: #D2E3FC;\n",
              "    }\n",
              "\n",
              "    [theme=dark] .colab-df-convert:hover {\n",
              "      background-color: #434B5C;\n",
              "      box-shadow: 0px 1px 3px 1px rgba(0, 0, 0, 0.15);\n",
              "      filter: drop-shadow(0px 1px 2px rgba(0, 0, 0, 0.3));\n",
              "      fill: #FFFFFF;\n",
              "    }\n",
              "  </style>\n",
              "\n",
              "    <script>\n",
              "      const buttonEl =\n",
              "        document.querySelector('#df-55e740c7-9e9a-4f07-a191-30dadb8d4a87 button.colab-df-convert');\n",
              "      buttonEl.style.display =\n",
              "        google.colab.kernel.accessAllowed ? 'block' : 'none';\n",
              "\n",
              "      async function convertToInteractive(key) {\n",
              "        const element = document.querySelector('#df-55e740c7-9e9a-4f07-a191-30dadb8d4a87');\n",
              "        const dataTable =\n",
              "          await google.colab.kernel.invokeFunction('convertToInteractive',\n",
              "                                                    [key], {});\n",
              "        if (!dataTable) return;\n",
              "\n",
              "        const docLinkHtml = 'Like what you see? Visit the ' +\n",
              "          '<a target=\"_blank\" href=https://colab.research.google.com/notebooks/data_table.ipynb>data table notebook</a>'\n",
              "          + ' to learn more about interactive tables.';\n",
              "        element.innerHTML = '';\n",
              "        dataTable['output_type'] = 'display_data';\n",
              "        await google.colab.output.renderOutput(dataTable, element);\n",
              "        const docLink = document.createElement('div');\n",
              "        docLink.innerHTML = docLinkHtml;\n",
              "        element.appendChild(docLink);\n",
              "      }\n",
              "    </script>\n",
              "  </div>\n",
              "\n",
              "\n",
              "<div id=\"df-e2f2b541-5739-4454-844a-c4624ecc1981\">\n",
              "  <button class=\"colab-df-quickchart\" onclick=\"quickchart('df-e2f2b541-5739-4454-844a-c4624ecc1981')\"\n",
              "            title=\"Suggest charts\"\n",
              "            style=\"display:none;\">\n",
              "\n",
              "<svg xmlns=\"http://www.w3.org/2000/svg\" height=\"24px\"viewBox=\"0 0 24 24\"\n",
              "     width=\"24px\">\n",
              "    <g>\n",
              "        <path d=\"M19 3H5c-1.1 0-2 .9-2 2v14c0 1.1.9 2 2 2h14c1.1 0 2-.9 2-2V5c0-1.1-.9-2-2-2zM9 17H7v-7h2v7zm4 0h-2V7h2v10zm4 0h-2v-4h2v4z\"/>\n",
              "    </g>\n",
              "</svg>\n",
              "  </button>\n",
              "\n",
              "<style>\n",
              "  .colab-df-quickchart {\n",
              "      --bg-color: #E8F0FE;\n",
              "      --fill-color: #1967D2;\n",
              "      --hover-bg-color: #E2EBFA;\n",
              "      --hover-fill-color: #174EA6;\n",
              "      --disabled-fill-color: #AAA;\n",
              "      --disabled-bg-color: #DDD;\n",
              "  }\n",
              "\n",
              "  [theme=dark] .colab-df-quickchart {\n",
              "      --bg-color: #3B4455;\n",
              "      --fill-color: #D2E3FC;\n",
              "      --hover-bg-color: #434B5C;\n",
              "      --hover-fill-color: #FFFFFF;\n",
              "      --disabled-bg-color: #3B4455;\n",
              "      --disabled-fill-color: #666;\n",
              "  }\n",
              "\n",
              "  .colab-df-quickchart {\n",
              "    background-color: var(--bg-color);\n",
              "    border: none;\n",
              "    border-radius: 50%;\n",
              "    cursor: pointer;\n",
              "    display: none;\n",
              "    fill: var(--fill-color);\n",
              "    height: 32px;\n",
              "    padding: 0;\n",
              "    width: 32px;\n",
              "  }\n",
              "\n",
              "  .colab-df-quickchart:hover {\n",
              "    background-color: var(--hover-bg-color);\n",
              "    box-shadow: 0 1px 2px rgba(60, 64, 67, 0.3), 0 1px 3px 1px rgba(60, 64, 67, 0.15);\n",
              "    fill: var(--button-hover-fill-color);\n",
              "  }\n",
              "\n",
              "  .colab-df-quickchart-complete:disabled,\n",
              "  .colab-df-quickchart-complete:disabled:hover {\n",
              "    background-color: var(--disabled-bg-color);\n",
              "    fill: var(--disabled-fill-color);\n",
              "    box-shadow: none;\n",
              "  }\n",
              "\n",
              "  .colab-df-spinner {\n",
              "    border: 2px solid var(--fill-color);\n",
              "    border-color: transparent;\n",
              "    border-bottom-color: var(--fill-color);\n",
              "    animation:\n",
              "      spin 1s steps(1) infinite;\n",
              "  }\n",
              "\n",
              "  @keyframes spin {\n",
              "    0% {\n",
              "      border-color: transparent;\n",
              "      border-bottom-color: var(--fill-color);\n",
              "      border-left-color: var(--fill-color);\n",
              "    }\n",
              "    20% {\n",
              "      border-color: transparent;\n",
              "      border-left-color: var(--fill-color);\n",
              "      border-top-color: var(--fill-color);\n",
              "    }\n",
              "    30% {\n",
              "      border-color: transparent;\n",
              "      border-left-color: var(--fill-color);\n",
              "      border-top-color: var(--fill-color);\n",
              "      border-right-color: var(--fill-color);\n",
              "    }\n",
              "    40% {\n",
              "      border-color: transparent;\n",
              "      border-right-color: var(--fill-color);\n",
              "      border-top-color: var(--fill-color);\n",
              "    }\n",
              "    60% {\n",
              "      border-color: transparent;\n",
              "      border-right-color: var(--fill-color);\n",
              "    }\n",
              "    80% {\n",
              "      border-color: transparent;\n",
              "      border-right-color: var(--fill-color);\n",
              "      border-bottom-color: var(--fill-color);\n",
              "    }\n",
              "    90% {\n",
              "      border-color: transparent;\n",
              "      border-bottom-color: var(--fill-color);\n",
              "    }\n",
              "  }\n",
              "</style>\n",
              "\n",
              "  <script>\n",
              "    async function quickchart(key) {\n",
              "      const quickchartButtonEl =\n",
              "        document.querySelector('#' + key + ' button');\n",
              "      quickchartButtonEl.disabled = true;  // To prevent multiple clicks.\n",
              "      quickchartButtonEl.classList.add('colab-df-spinner');\n",
              "      try {\n",
              "        const charts = await google.colab.kernel.invokeFunction(\n",
              "            'suggestCharts', [key], {});\n",
              "      } catch (error) {\n",
              "        console.error('Error during call to suggestCharts:', error);\n",
              "      }\n",
              "      quickchartButtonEl.classList.remove('colab-df-spinner');\n",
              "      quickchartButtonEl.classList.add('colab-df-quickchart-complete');\n",
              "    }\n",
              "    (() => {\n",
              "      let quickchartButtonEl =\n",
              "        document.querySelector('#df-e2f2b541-5739-4454-844a-c4624ecc1981 button');\n",
              "      quickchartButtonEl.style.display =\n",
              "        google.colab.kernel.accessAllowed ? 'block' : 'none';\n",
              "    })();\n",
              "  </script>\n",
              "</div>\n",
              "\n",
              "    </div>\n",
              "  </div>\n"
            ],
            "application/vnd.google.colaboratory.intrinsic+json": {
              "type": "dataframe",
              "variable_name": "df_features_train"
            }
          },
          "metadata": {},
          "execution_count": 12
        }
      ],
      "source": [
        "df_features_train.head()"
      ]
    },
    {
      "cell_type": "code",
      "execution_count": null,
      "id": "bbf5c3db",
      "metadata": {
        "id": "bbf5c3db",
        "colab": {
          "base_uri": "https://localhost:8080/",
          "height": 417
        },
        "outputId": "a8aae0ca-0cc9-48cc-f3f6-3f22be2f48a4"
      },
      "outputs": [
        {
          "output_type": "execute_result",
          "data": {
            "text/plain": [
              "                 pan                     merchant       category  \\\n",
              "0  A001028354037962B  Bins, Balistreri and Beatty   shopping_pos   \n",
              "1  A001028354037962B                   Terry-Huel   shopping_net   \n",
              "2  A001028354037962B              Johnston-Casper         travel   \n",
              "3  A001028354037962B              Prohaska-Murray  gas_transport   \n",
              "4  A001028354037962B                 Hudson-Ratke    grocery_pos   \n",
              "\n",
              "   transactionAmount   first      last gender              street    zip  \\\n",
              "0               3.19  Melody  Thompson      F  0362 Anderson Wall  64470   \n",
              "1               9.52  Melody  Thompson      F  0362 Anderson Wall  64470   \n",
              "2               7.33  Melody  Thompson      F  0362 Anderson Wall  64470   \n",
              "3              46.66  Melody  Thompson      F  0362 Anderson Wall  64470   \n",
              "4              84.04  Melody  Thompson      F  0362 Anderson Wall  64470   \n",
              "\n",
              "       lat     long  city_pop        job         dob  \\\n",
              "0  40.1362 -95.2138      1631  Architect  1953-01-20   \n",
              "1  40.1362 -95.2138      1631  Architect  1953-01-20   \n",
              "2  40.1362 -95.2138      1631  Architect  1953-01-20   \n",
              "3  40.1362 -95.2138      1631  Architect  1953-01-20   \n",
              "4  40.1362 -95.2138      1631  Architect  1953-01-20   \n",
              "\n",
              "                          trans_num   unix_time  merch_lat  merch_long  \\\n",
              "0  20c1cf41b472000887395508c5796354  1325386894  39.299707  -95.975808   \n",
              "1  771a63aaf5210acfbf5ac2403aad30af  1325390918  39.790646  -95.043146   \n",
              "2  7a30020f6af806a03b3e3b859b9a2df4  1325424070  40.977943  -96.135389   \n",
              "3  b8e3100c6bccb605dd98a848e2c76eda  1325396176  41.071606  -94.999602   \n",
              "4  a4124a63fe29428a307eb671a3f03ba3  1325407994  40.638122  -95.834340   \n",
              "\n",
              "   mdlIsFraudTrx  mdlIsFraudAcct transactionDateTime  is_train merchCountry  \\\n",
              "0              0               1 2020-02-01 00:01:34         0           US   \n",
              "1              0               1 2020-02-01 00:08:38         0           US   \n",
              "2              0               1 2020-02-01 00:21:10         0           US   \n",
              "3              0               1 2020-02-01 00:36:16         0           US   \n",
              "4              0               1 2020-02-01 00:53:14         0           US   \n",
              "\n",
              "  merchState cardholderCountry cardholderState  num_hi_amt_last_hour  \\\n",
              "0     Kansas                US        Missouri                   0.0   \n",
              "1     Kansas                US        Missouri                   0.0   \n",
              "2   Nebraska                US        Missouri                   0.0   \n",
              "3       Iowa                US        Missouri                   0.0   \n",
              "4   Nebraska                US        Missouri                   0.0   \n",
              "\n",
              "   is_international  is_late_night  user_avg_amount_month  is_CP  repeat_amt  \\\n",
              "0                 0              1                  3.190      1           0   \n",
              "1                 0              1                  6.355      0           0   \n",
              "2                 0              1                  6.680      1           0   \n",
              "3                 0              1                 16.675      1           0   \n",
              "4                 0              1                 30.148      1           0   \n",
              "\n",
              "   transactionFrequency  user_avg_volume_month  num_last_24_hours  \\\n",
              "0                   1.0                 1471.0                1.0   \n",
              "1                   2.0                 1471.0                2.0   \n",
              "2                   3.0                 1471.0                3.0   \n",
              "3                   3.0                 1471.0                4.0   \n",
              "4                   2.0                 1471.0                5.0   \n",
              "\n",
              "   amt_trend_5e  category_ratio  is_high_trans_freq_user_avg_vol  \\\n",
              "0         3.190             0.0                                0   \n",
              "1         6.355             0.0                                0   \n",
              "2         6.680             0.0                                0   \n",
              "3        16.675             0.0                                0   \n",
              "4        30.148             0.0                                0   \n",
              "\n",
              "   is_high_inperson  is_high_person  is_high_online  is_CNP  \\\n",
              "0                 0               0               0       0   \n",
              "1                 0               0               0       1   \n",
              "2                 0               0               0       0   \n",
              "3                 0               0               0       0   \n",
              "4                 0               0               0       0   \n",
              "\n",
              "   is_high_trans_freq  is_high_merch_country  user_avg_amount_week  \\\n",
              "0                   0                      0                 3.190   \n",
              "1                   0                      0                 6.355   \n",
              "2                   0                      0                 6.680   \n",
              "3                   0                      0                16.675   \n",
              "4                   0                      0                30.148   \n",
              "\n",
              "   is_high_repeat_amount  deltaTime  amount_diff  is_high_transaction_amount  \\\n",
              "0                      0        0.0         0.01                           0   \n",
              "1                      0      424.0         6.33                           1   \n",
              "2                      0      752.0        -2.19                           1   \n",
              "3                      0      906.0        39.33                           1   \n",
              "4                      0     1018.0        37.38                           1   \n",
              "\n",
              "   user_avg_volume  RelativeAmount  num_transactions  transactionHour  \\\n",
              "0           1471.0        1.000000              1471                0   \n",
              "1           1471.0        2.984326              1471                0   \n",
              "2           1471.0        1.153423              1471                0   \n",
              "3           1471.0        6.985030              1471                0   \n",
              "4           1471.0        5.039880              1471                0   \n",
              "\n",
              "   user_avg_amount  is_high_transaction_amount_user_avg  user_avg_volume_week  \\\n",
              "0            3.190                                    0                1471.0   \n",
              "1            3.190                                    1                1471.0   \n",
              "2            6.355                                    1                1471.0   \n",
              "3            6.680                                    1                1471.0   \n",
              "4           16.675                                    1                1471.0   \n",
              "\n",
              "   amt_trend_24h  count_trend_1h  IsHighValue  is_high_volume  is_high_amount  \n",
              "0          3.190             1.0            0               1               0  \n",
              "1          6.355             2.0            0               1               0  \n",
              "2          6.680             3.0            0               1               0  \n",
              "3         16.675             4.0            0               1               0  \n",
              "4         30.148             5.0            0               1               0  "
            ],
            "text/html": [
              "\n",
              "  <div id=\"df-9ce80667-2a76-48fa-b2f4-8f2c7dbb5550\" class=\"colab-df-container\">\n",
              "    <div>\n",
              "<style scoped>\n",
              "    .dataframe tbody tr th:only-of-type {\n",
              "        vertical-align: middle;\n",
              "    }\n",
              "\n",
              "    .dataframe tbody tr th {\n",
              "        vertical-align: top;\n",
              "    }\n",
              "\n",
              "    .dataframe thead th {\n",
              "        text-align: right;\n",
              "    }\n",
              "</style>\n",
              "<table border=\"1\" class=\"dataframe\">\n",
              "  <thead>\n",
              "    <tr style=\"text-align: right;\">\n",
              "      <th></th>\n",
              "      <th>pan</th>\n",
              "      <th>merchant</th>\n",
              "      <th>category</th>\n",
              "      <th>transactionAmount</th>\n",
              "      <th>first</th>\n",
              "      <th>last</th>\n",
              "      <th>gender</th>\n",
              "      <th>street</th>\n",
              "      <th>zip</th>\n",
              "      <th>lat</th>\n",
              "      <th>long</th>\n",
              "      <th>city_pop</th>\n",
              "      <th>job</th>\n",
              "      <th>dob</th>\n",
              "      <th>trans_num</th>\n",
              "      <th>unix_time</th>\n",
              "      <th>merch_lat</th>\n",
              "      <th>merch_long</th>\n",
              "      <th>mdlIsFraudTrx</th>\n",
              "      <th>mdlIsFraudAcct</th>\n",
              "      <th>transactionDateTime</th>\n",
              "      <th>is_train</th>\n",
              "      <th>merchCountry</th>\n",
              "      <th>merchState</th>\n",
              "      <th>cardholderCountry</th>\n",
              "      <th>cardholderState</th>\n",
              "      <th>num_hi_amt_last_hour</th>\n",
              "      <th>is_international</th>\n",
              "      <th>is_late_night</th>\n",
              "      <th>user_avg_amount_month</th>\n",
              "      <th>is_CP</th>\n",
              "      <th>repeat_amt</th>\n",
              "      <th>transactionFrequency</th>\n",
              "      <th>user_avg_volume_month</th>\n",
              "      <th>num_last_24_hours</th>\n",
              "      <th>amt_trend_5e</th>\n",
              "      <th>category_ratio</th>\n",
              "      <th>is_high_trans_freq_user_avg_vol</th>\n",
              "      <th>is_high_inperson</th>\n",
              "      <th>is_high_person</th>\n",
              "      <th>is_high_online</th>\n",
              "      <th>is_CNP</th>\n",
              "      <th>is_high_trans_freq</th>\n",
              "      <th>is_high_merch_country</th>\n",
              "      <th>user_avg_amount_week</th>\n",
              "      <th>is_high_repeat_amount</th>\n",
              "      <th>deltaTime</th>\n",
              "      <th>amount_diff</th>\n",
              "      <th>is_high_transaction_amount</th>\n",
              "      <th>user_avg_volume</th>\n",
              "      <th>RelativeAmount</th>\n",
              "      <th>num_transactions</th>\n",
              "      <th>transactionHour</th>\n",
              "      <th>user_avg_amount</th>\n",
              "      <th>is_high_transaction_amount_user_avg</th>\n",
              "      <th>user_avg_volume_week</th>\n",
              "      <th>amt_trend_24h</th>\n",
              "      <th>count_trend_1h</th>\n",
              "      <th>IsHighValue</th>\n",
              "      <th>is_high_volume</th>\n",
              "      <th>is_high_amount</th>\n",
              "    </tr>\n",
              "  </thead>\n",
              "  <tbody>\n",
              "    <tr>\n",
              "      <th>0</th>\n",
              "      <td>A001028354037962B</td>\n",
              "      <td>Bins, Balistreri and Beatty</td>\n",
              "      <td>shopping_pos</td>\n",
              "      <td>3.19</td>\n",
              "      <td>Melody</td>\n",
              "      <td>Thompson</td>\n",
              "      <td>F</td>\n",
              "      <td>0362 Anderson Wall</td>\n",
              "      <td>64470</td>\n",
              "      <td>40.1362</td>\n",
              "      <td>-95.2138</td>\n",
              "      <td>1631</td>\n",
              "      <td>Architect</td>\n",
              "      <td>1953-01-20</td>\n",
              "      <td>20c1cf41b472000887395508c5796354</td>\n",
              "      <td>1325386894</td>\n",
              "      <td>39.299707</td>\n",
              "      <td>-95.975808</td>\n",
              "      <td>0</td>\n",
              "      <td>1</td>\n",
              "      <td>2020-02-01 00:01:34</td>\n",
              "      <td>0</td>\n",
              "      <td>US</td>\n",
              "      <td>Kansas</td>\n",
              "      <td>US</td>\n",
              "      <td>Missouri</td>\n",
              "      <td>0.0</td>\n",
              "      <td>0</td>\n",
              "      <td>1</td>\n",
              "      <td>3.190</td>\n",
              "      <td>1</td>\n",
              "      <td>0</td>\n",
              "      <td>1.0</td>\n",
              "      <td>1471.0</td>\n",
              "      <td>1.0</td>\n",
              "      <td>3.190</td>\n",
              "      <td>0.0</td>\n",
              "      <td>0</td>\n",
              "      <td>0</td>\n",
              "      <td>0</td>\n",
              "      <td>0</td>\n",
              "      <td>0</td>\n",
              "      <td>0</td>\n",
              "      <td>0</td>\n",
              "      <td>3.190</td>\n",
              "      <td>0</td>\n",
              "      <td>0.0</td>\n",
              "      <td>0.01</td>\n",
              "      <td>0</td>\n",
              "      <td>1471.0</td>\n",
              "      <td>1.000000</td>\n",
              "      <td>1471</td>\n",
              "      <td>0</td>\n",
              "      <td>3.190</td>\n",
              "      <td>0</td>\n",
              "      <td>1471.0</td>\n",
              "      <td>3.190</td>\n",
              "      <td>1.0</td>\n",
              "      <td>0</td>\n",
              "      <td>1</td>\n",
              "      <td>0</td>\n",
              "    </tr>\n",
              "    <tr>\n",
              "      <th>1</th>\n",
              "      <td>A001028354037962B</td>\n",
              "      <td>Terry-Huel</td>\n",
              "      <td>shopping_net</td>\n",
              "      <td>9.52</td>\n",
              "      <td>Melody</td>\n",
              "      <td>Thompson</td>\n",
              "      <td>F</td>\n",
              "      <td>0362 Anderson Wall</td>\n",
              "      <td>64470</td>\n",
              "      <td>40.1362</td>\n",
              "      <td>-95.2138</td>\n",
              "      <td>1631</td>\n",
              "      <td>Architect</td>\n",
              "      <td>1953-01-20</td>\n",
              "      <td>771a63aaf5210acfbf5ac2403aad30af</td>\n",
              "      <td>1325390918</td>\n",
              "      <td>39.790646</td>\n",
              "      <td>-95.043146</td>\n",
              "      <td>0</td>\n",
              "      <td>1</td>\n",
              "      <td>2020-02-01 00:08:38</td>\n",
              "      <td>0</td>\n",
              "      <td>US</td>\n",
              "      <td>Kansas</td>\n",
              "      <td>US</td>\n",
              "      <td>Missouri</td>\n",
              "      <td>0.0</td>\n",
              "      <td>0</td>\n",
              "      <td>1</td>\n",
              "      <td>6.355</td>\n",
              "      <td>0</td>\n",
              "      <td>0</td>\n",
              "      <td>2.0</td>\n",
              "      <td>1471.0</td>\n",
              "      <td>2.0</td>\n",
              "      <td>6.355</td>\n",
              "      <td>0.0</td>\n",
              "      <td>0</td>\n",
              "      <td>0</td>\n",
              "      <td>0</td>\n",
              "      <td>0</td>\n",
              "      <td>1</td>\n",
              "      <td>0</td>\n",
              "      <td>0</td>\n",
              "      <td>6.355</td>\n",
              "      <td>0</td>\n",
              "      <td>424.0</td>\n",
              "      <td>6.33</td>\n",
              "      <td>1</td>\n",
              "      <td>1471.0</td>\n",
              "      <td>2.984326</td>\n",
              "      <td>1471</td>\n",
              "      <td>0</td>\n",
              "      <td>3.190</td>\n",
              "      <td>1</td>\n",
              "      <td>1471.0</td>\n",
              "      <td>6.355</td>\n",
              "      <td>2.0</td>\n",
              "      <td>0</td>\n",
              "      <td>1</td>\n",
              "      <td>0</td>\n",
              "    </tr>\n",
              "    <tr>\n",
              "      <th>2</th>\n",
              "      <td>A001028354037962B</td>\n",
              "      <td>Johnston-Casper</td>\n",
              "      <td>travel</td>\n",
              "      <td>7.33</td>\n",
              "      <td>Melody</td>\n",
              "      <td>Thompson</td>\n",
              "      <td>F</td>\n",
              "      <td>0362 Anderson Wall</td>\n",
              "      <td>64470</td>\n",
              "      <td>40.1362</td>\n",
              "      <td>-95.2138</td>\n",
              "      <td>1631</td>\n",
              "      <td>Architect</td>\n",
              "      <td>1953-01-20</td>\n",
              "      <td>7a30020f6af806a03b3e3b859b9a2df4</td>\n",
              "      <td>1325424070</td>\n",
              "      <td>40.977943</td>\n",
              "      <td>-96.135389</td>\n",
              "      <td>0</td>\n",
              "      <td>1</td>\n",
              "      <td>2020-02-01 00:21:10</td>\n",
              "      <td>0</td>\n",
              "      <td>US</td>\n",
              "      <td>Nebraska</td>\n",
              "      <td>US</td>\n",
              "      <td>Missouri</td>\n",
              "      <td>0.0</td>\n",
              "      <td>0</td>\n",
              "      <td>1</td>\n",
              "      <td>6.680</td>\n",
              "      <td>1</td>\n",
              "      <td>0</td>\n",
              "      <td>3.0</td>\n",
              "      <td>1471.0</td>\n",
              "      <td>3.0</td>\n",
              "      <td>6.680</td>\n",
              "      <td>0.0</td>\n",
              "      <td>0</td>\n",
              "      <td>0</td>\n",
              "      <td>0</td>\n",
              "      <td>0</td>\n",
              "      <td>0</td>\n",
              "      <td>0</td>\n",
              "      <td>0</td>\n",
              "      <td>6.680</td>\n",
              "      <td>0</td>\n",
              "      <td>752.0</td>\n",
              "      <td>-2.19</td>\n",
              "      <td>1</td>\n",
              "      <td>1471.0</td>\n",
              "      <td>1.153423</td>\n",
              "      <td>1471</td>\n",
              "      <td>0</td>\n",
              "      <td>6.355</td>\n",
              "      <td>1</td>\n",
              "      <td>1471.0</td>\n",
              "      <td>6.680</td>\n",
              "      <td>3.0</td>\n",
              "      <td>0</td>\n",
              "      <td>1</td>\n",
              "      <td>0</td>\n",
              "    </tr>\n",
              "    <tr>\n",
              "      <th>3</th>\n",
              "      <td>A001028354037962B</td>\n",
              "      <td>Prohaska-Murray</td>\n",
              "      <td>gas_transport</td>\n",
              "      <td>46.66</td>\n",
              "      <td>Melody</td>\n",
              "      <td>Thompson</td>\n",
              "      <td>F</td>\n",
              "      <td>0362 Anderson Wall</td>\n",
              "      <td>64470</td>\n",
              "      <td>40.1362</td>\n",
              "      <td>-95.2138</td>\n",
              "      <td>1631</td>\n",
              "      <td>Architect</td>\n",
              "      <td>1953-01-20</td>\n",
              "      <td>b8e3100c6bccb605dd98a848e2c76eda</td>\n",
              "      <td>1325396176</td>\n",
              "      <td>41.071606</td>\n",
              "      <td>-94.999602</td>\n",
              "      <td>0</td>\n",
              "      <td>1</td>\n",
              "      <td>2020-02-01 00:36:16</td>\n",
              "      <td>0</td>\n",
              "      <td>US</td>\n",
              "      <td>Iowa</td>\n",
              "      <td>US</td>\n",
              "      <td>Missouri</td>\n",
              "      <td>0.0</td>\n",
              "      <td>0</td>\n",
              "      <td>1</td>\n",
              "      <td>16.675</td>\n",
              "      <td>1</td>\n",
              "      <td>0</td>\n",
              "      <td>3.0</td>\n",
              "      <td>1471.0</td>\n",
              "      <td>4.0</td>\n",
              "      <td>16.675</td>\n",
              "      <td>0.0</td>\n",
              "      <td>0</td>\n",
              "      <td>0</td>\n",
              "      <td>0</td>\n",
              "      <td>0</td>\n",
              "      <td>0</td>\n",
              "      <td>0</td>\n",
              "      <td>0</td>\n",
              "      <td>16.675</td>\n",
              "      <td>0</td>\n",
              "      <td>906.0</td>\n",
              "      <td>39.33</td>\n",
              "      <td>1</td>\n",
              "      <td>1471.0</td>\n",
              "      <td>6.985030</td>\n",
              "      <td>1471</td>\n",
              "      <td>0</td>\n",
              "      <td>6.680</td>\n",
              "      <td>1</td>\n",
              "      <td>1471.0</td>\n",
              "      <td>16.675</td>\n",
              "      <td>4.0</td>\n",
              "      <td>0</td>\n",
              "      <td>1</td>\n",
              "      <td>0</td>\n",
              "    </tr>\n",
              "    <tr>\n",
              "      <th>4</th>\n",
              "      <td>A001028354037962B</td>\n",
              "      <td>Hudson-Ratke</td>\n",
              "      <td>grocery_pos</td>\n",
              "      <td>84.04</td>\n",
              "      <td>Melody</td>\n",
              "      <td>Thompson</td>\n",
              "      <td>F</td>\n",
              "      <td>0362 Anderson Wall</td>\n",
              "      <td>64470</td>\n",
              "      <td>40.1362</td>\n",
              "      <td>-95.2138</td>\n",
              "      <td>1631</td>\n",
              "      <td>Architect</td>\n",
              "      <td>1953-01-20</td>\n",
              "      <td>a4124a63fe29428a307eb671a3f03ba3</td>\n",
              "      <td>1325407994</td>\n",
              "      <td>40.638122</td>\n",
              "      <td>-95.834340</td>\n",
              "      <td>0</td>\n",
              "      <td>1</td>\n",
              "      <td>2020-02-01 00:53:14</td>\n",
              "      <td>0</td>\n",
              "      <td>US</td>\n",
              "      <td>Nebraska</td>\n",
              "      <td>US</td>\n",
              "      <td>Missouri</td>\n",
              "      <td>0.0</td>\n",
              "      <td>0</td>\n",
              "      <td>1</td>\n",
              "      <td>30.148</td>\n",
              "      <td>1</td>\n",
              "      <td>0</td>\n",
              "      <td>2.0</td>\n",
              "      <td>1471.0</td>\n",
              "      <td>5.0</td>\n",
              "      <td>30.148</td>\n",
              "      <td>0.0</td>\n",
              "      <td>0</td>\n",
              "      <td>0</td>\n",
              "      <td>0</td>\n",
              "      <td>0</td>\n",
              "      <td>0</td>\n",
              "      <td>0</td>\n",
              "      <td>0</td>\n",
              "      <td>30.148</td>\n",
              "      <td>0</td>\n",
              "      <td>1018.0</td>\n",
              "      <td>37.38</td>\n",
              "      <td>1</td>\n",
              "      <td>1471.0</td>\n",
              "      <td>5.039880</td>\n",
              "      <td>1471</td>\n",
              "      <td>0</td>\n",
              "      <td>16.675</td>\n",
              "      <td>1</td>\n",
              "      <td>1471.0</td>\n",
              "      <td>30.148</td>\n",
              "      <td>5.0</td>\n",
              "      <td>0</td>\n",
              "      <td>1</td>\n",
              "      <td>0</td>\n",
              "    </tr>\n",
              "  </tbody>\n",
              "</table>\n",
              "</div>\n",
              "    <div class=\"colab-df-buttons\">\n",
              "\n",
              "  <div class=\"colab-df-container\">\n",
              "    <button class=\"colab-df-convert\" onclick=\"convertToInteractive('df-9ce80667-2a76-48fa-b2f4-8f2c7dbb5550')\"\n",
              "            title=\"Convert this dataframe to an interactive table.\"\n",
              "            style=\"display:none;\">\n",
              "\n",
              "  <svg xmlns=\"http://www.w3.org/2000/svg\" height=\"24px\" viewBox=\"0 -960 960 960\">\n",
              "    <path d=\"M120-120v-720h720v720H120Zm60-500h600v-160H180v160Zm220 220h160v-160H400v160Zm0 220h160v-160H400v160ZM180-400h160v-160H180v160Zm440 0h160v-160H620v160ZM180-180h160v-160H180v160Zm440 0h160v-160H620v160Z\"/>\n",
              "  </svg>\n",
              "    </button>\n",
              "\n",
              "  <style>\n",
              "    .colab-df-container {\n",
              "      display:flex;\n",
              "      gap: 12px;\n",
              "    }\n",
              "\n",
              "    .colab-df-convert {\n",
              "      background-color: #E8F0FE;\n",
              "      border: none;\n",
              "      border-radius: 50%;\n",
              "      cursor: pointer;\n",
              "      display: none;\n",
              "      fill: #1967D2;\n",
              "      height: 32px;\n",
              "      padding: 0 0 0 0;\n",
              "      width: 32px;\n",
              "    }\n",
              "\n",
              "    .colab-df-convert:hover {\n",
              "      background-color: #E2EBFA;\n",
              "      box-shadow: 0px 1px 2px rgba(60, 64, 67, 0.3), 0px 1px 3px 1px rgba(60, 64, 67, 0.15);\n",
              "      fill: #174EA6;\n",
              "    }\n",
              "\n",
              "    .colab-df-buttons div {\n",
              "      margin-bottom: 4px;\n",
              "    }\n",
              "\n",
              "    [theme=dark] .colab-df-convert {\n",
              "      background-color: #3B4455;\n",
              "      fill: #D2E3FC;\n",
              "    }\n",
              "\n",
              "    [theme=dark] .colab-df-convert:hover {\n",
              "      background-color: #434B5C;\n",
              "      box-shadow: 0px 1px 3px 1px rgba(0, 0, 0, 0.15);\n",
              "      filter: drop-shadow(0px 1px 2px rgba(0, 0, 0, 0.3));\n",
              "      fill: #FFFFFF;\n",
              "    }\n",
              "  </style>\n",
              "\n",
              "    <script>\n",
              "      const buttonEl =\n",
              "        document.querySelector('#df-9ce80667-2a76-48fa-b2f4-8f2c7dbb5550 button.colab-df-convert');\n",
              "      buttonEl.style.display =\n",
              "        google.colab.kernel.accessAllowed ? 'block' : 'none';\n",
              "\n",
              "      async function convertToInteractive(key) {\n",
              "        const element = document.querySelector('#df-9ce80667-2a76-48fa-b2f4-8f2c7dbb5550');\n",
              "        const dataTable =\n",
              "          await google.colab.kernel.invokeFunction('convertToInteractive',\n",
              "                                                    [key], {});\n",
              "        if (!dataTable) return;\n",
              "\n",
              "        const docLinkHtml = 'Like what you see? Visit the ' +\n",
              "          '<a target=\"_blank\" href=https://colab.research.google.com/notebooks/data_table.ipynb>data table notebook</a>'\n",
              "          + ' to learn more about interactive tables.';\n",
              "        element.innerHTML = '';\n",
              "        dataTable['output_type'] = 'display_data';\n",
              "        await google.colab.output.renderOutput(dataTable, element);\n",
              "        const docLink = document.createElement('div');\n",
              "        docLink.innerHTML = docLinkHtml;\n",
              "        element.appendChild(docLink);\n",
              "      }\n",
              "    </script>\n",
              "  </div>\n",
              "\n",
              "\n",
              "<div id=\"df-404674ef-9dbc-4518-9d1c-35b9dac14f26\">\n",
              "  <button class=\"colab-df-quickchart\" onclick=\"quickchart('df-404674ef-9dbc-4518-9d1c-35b9dac14f26')\"\n",
              "            title=\"Suggest charts\"\n",
              "            style=\"display:none;\">\n",
              "\n",
              "<svg xmlns=\"http://www.w3.org/2000/svg\" height=\"24px\"viewBox=\"0 0 24 24\"\n",
              "     width=\"24px\">\n",
              "    <g>\n",
              "        <path d=\"M19 3H5c-1.1 0-2 .9-2 2v14c0 1.1.9 2 2 2h14c1.1 0 2-.9 2-2V5c0-1.1-.9-2-2-2zM9 17H7v-7h2v7zm4 0h-2V7h2v10zm4 0h-2v-4h2v4z\"/>\n",
              "    </g>\n",
              "</svg>\n",
              "  </button>\n",
              "\n",
              "<style>\n",
              "  .colab-df-quickchart {\n",
              "      --bg-color: #E8F0FE;\n",
              "      --fill-color: #1967D2;\n",
              "      --hover-bg-color: #E2EBFA;\n",
              "      --hover-fill-color: #174EA6;\n",
              "      --disabled-fill-color: #AAA;\n",
              "      --disabled-bg-color: #DDD;\n",
              "  }\n",
              "\n",
              "  [theme=dark] .colab-df-quickchart {\n",
              "      --bg-color: #3B4455;\n",
              "      --fill-color: #D2E3FC;\n",
              "      --hover-bg-color: #434B5C;\n",
              "      --hover-fill-color: #FFFFFF;\n",
              "      --disabled-bg-color: #3B4455;\n",
              "      --disabled-fill-color: #666;\n",
              "  }\n",
              "\n",
              "  .colab-df-quickchart {\n",
              "    background-color: var(--bg-color);\n",
              "    border: none;\n",
              "    border-radius: 50%;\n",
              "    cursor: pointer;\n",
              "    display: none;\n",
              "    fill: var(--fill-color);\n",
              "    height: 32px;\n",
              "    padding: 0;\n",
              "    width: 32px;\n",
              "  }\n",
              "\n",
              "  .colab-df-quickchart:hover {\n",
              "    background-color: var(--hover-bg-color);\n",
              "    box-shadow: 0 1px 2px rgba(60, 64, 67, 0.3), 0 1px 3px 1px rgba(60, 64, 67, 0.15);\n",
              "    fill: var(--button-hover-fill-color);\n",
              "  }\n",
              "\n",
              "  .colab-df-quickchart-complete:disabled,\n",
              "  .colab-df-quickchart-complete:disabled:hover {\n",
              "    background-color: var(--disabled-bg-color);\n",
              "    fill: var(--disabled-fill-color);\n",
              "    box-shadow: none;\n",
              "  }\n",
              "\n",
              "  .colab-df-spinner {\n",
              "    border: 2px solid var(--fill-color);\n",
              "    border-color: transparent;\n",
              "    border-bottom-color: var(--fill-color);\n",
              "    animation:\n",
              "      spin 1s steps(1) infinite;\n",
              "  }\n",
              "\n",
              "  @keyframes spin {\n",
              "    0% {\n",
              "      border-color: transparent;\n",
              "      border-bottom-color: var(--fill-color);\n",
              "      border-left-color: var(--fill-color);\n",
              "    }\n",
              "    20% {\n",
              "      border-color: transparent;\n",
              "      border-left-color: var(--fill-color);\n",
              "      border-top-color: var(--fill-color);\n",
              "    }\n",
              "    30% {\n",
              "      border-color: transparent;\n",
              "      border-left-color: var(--fill-color);\n",
              "      border-top-color: var(--fill-color);\n",
              "      border-right-color: var(--fill-color);\n",
              "    }\n",
              "    40% {\n",
              "      border-color: transparent;\n",
              "      border-right-color: var(--fill-color);\n",
              "      border-top-color: var(--fill-color);\n",
              "    }\n",
              "    60% {\n",
              "      border-color: transparent;\n",
              "      border-right-color: var(--fill-color);\n",
              "    }\n",
              "    80% {\n",
              "      border-color: transparent;\n",
              "      border-right-color: var(--fill-color);\n",
              "      border-bottom-color: var(--fill-color);\n",
              "    }\n",
              "    90% {\n",
              "      border-color: transparent;\n",
              "      border-bottom-color: var(--fill-color);\n",
              "    }\n",
              "  }\n",
              "</style>\n",
              "\n",
              "  <script>\n",
              "    async function quickchart(key) {\n",
              "      const quickchartButtonEl =\n",
              "        document.querySelector('#' + key + ' button');\n",
              "      quickchartButtonEl.disabled = true;  // To prevent multiple clicks.\n",
              "      quickchartButtonEl.classList.add('colab-df-spinner');\n",
              "      try {\n",
              "        const charts = await google.colab.kernel.invokeFunction(\n",
              "            'suggestCharts', [key], {});\n",
              "      } catch (error) {\n",
              "        console.error('Error during call to suggestCharts:', error);\n",
              "      }\n",
              "      quickchartButtonEl.classList.remove('colab-df-spinner');\n",
              "      quickchartButtonEl.classList.add('colab-df-quickchart-complete');\n",
              "    }\n",
              "    (() => {\n",
              "      let quickchartButtonEl =\n",
              "        document.querySelector('#df-404674ef-9dbc-4518-9d1c-35b9dac14f26 button');\n",
              "      quickchartButtonEl.style.display =\n",
              "        google.colab.kernel.accessAllowed ? 'block' : 'none';\n",
              "    })();\n",
              "  </script>\n",
              "</div>\n",
              "\n",
              "    </div>\n",
              "  </div>\n"
            ],
            "application/vnd.google.colaboratory.intrinsic+json": {
              "type": "dataframe",
              "variable_name": "df_features_test"
            }
          },
          "metadata": {},
          "execution_count": 13
        }
      ],
      "source": [
        "df_features_test.head()"
      ]
    },
    {
      "cell_type": "markdown",
      "id": "51dec035",
      "metadata": {
        "id": "51dec035"
      },
      "source": [
        "### Combining Train and Test Dataset for Model Training <font color='red'>(**Do Not Modify**)</font>"
      ]
    },
    {
      "cell_type": "code",
      "execution_count": null,
      "id": "144356c6",
      "metadata": {
        "id": "144356c6"
      },
      "outputs": [],
      "source": [
        "# Combine Datasets into one, stack vertically\n",
        "df_features = pd.concat([df_features_train, df_features_test], ignore_index=True, axis=0)\n",
        "df_features.sort_values(by=['pan','transactionDateTime'], inplace=True)\n",
        "df_features.reset_index(drop=True, inplace=True)"
      ]
    },
    {
      "cell_type": "markdown",
      "id": "bcdf287d",
      "metadata": {
        "id": "bcdf287d"
      },
      "source": [
        "### Downcasting Dtypes and Memory Usage Check <font color='red'>(**Do Not Modify**)</font>\n",
        "\n",
        "It's important to know the precision you're working with for each data type. Because NNets take longer to run, the memory required can add up. One way to help with efficient memory use is to downcast floats and integer type variables."
      ]
    },
    {
      "cell_type": "code",
      "execution_count": null,
      "id": "08fcef7d",
      "metadata": {
        "id": "08fcef7d",
        "colab": {
          "base_uri": "https://localhost:8080/",
          "height": 332
        },
        "outputId": "15d90cb0-ddd3-497e-9e9c-77d9f082567f"
      },
      "outputs": [
        {
          "output_type": "error",
          "ename": "NameError",
          "evalue": "name 'sys' is not defined",
          "traceback": [
            "\u001b[0;31m---------------------------------------------------------------------------\u001b[0m",
            "\u001b[0;31mNameError\u001b[0m                                 Traceback (most recent call last)",
            "\u001b[0;32m<ipython-input-1-bafaf1c9e325>\u001b[0m in \u001b[0;36m<cell line: 0>\u001b[0;34m()\u001b[0m\n\u001b[1;32m      6\u001b[0m     \u001b[0mkey\u001b[0m\u001b[0;34m:\u001b[0m \u001b[0mvalue\u001b[0m\u001b[0;34m\u001b[0m\u001b[0;34m\u001b[0m\u001b[0m\n\u001b[1;32m      7\u001b[0m     for key, value in sorted(\n\u001b[0;32m----> 8\u001b[0;31m         [\n\u001b[0m\u001b[1;32m      9\u001b[0m             \u001b[0;34m(\u001b[0m\u001b[0mx\u001b[0m\u001b[0;34m,\u001b[0m \u001b[0msys\u001b[0m\u001b[0;34m.\u001b[0m\u001b[0mgetsizeof\u001b[0m\u001b[0;34m(\u001b[0m\u001b[0mglobals\u001b[0m\u001b[0;34m(\u001b[0m\u001b[0;34m)\u001b[0m\u001b[0;34m.\u001b[0m\u001b[0mget\u001b[0m\u001b[0;34m(\u001b[0m\u001b[0mx\u001b[0m\u001b[0;34m)\u001b[0m\u001b[0;34m)\u001b[0m\u001b[0;34m)\u001b[0m\u001b[0;34m\u001b[0m\u001b[0;34m\u001b[0m\u001b[0m\n\u001b[1;32m     10\u001b[0m             \u001b[0;32mfor\u001b[0m \u001b[0mx\u001b[0m \u001b[0;32min\u001b[0m \u001b[0mdir\u001b[0m\u001b[0;34m(\u001b[0m\u001b[0;34m)\u001b[0m\u001b[0;34m\u001b[0m\u001b[0;34m\u001b[0m\u001b[0m\n",
            "\u001b[0;32m<ipython-input-1-bafaf1c9e325>\u001b[0m in \u001b[0;36m<listcomp>\u001b[0;34m(.0)\u001b[0m\n\u001b[1;32m      9\u001b[0m             \u001b[0;34m(\u001b[0m\u001b[0mx\u001b[0m\u001b[0;34m,\u001b[0m \u001b[0msys\u001b[0m\u001b[0;34m.\u001b[0m\u001b[0mgetsizeof\u001b[0m\u001b[0;34m(\u001b[0m\u001b[0mglobals\u001b[0m\u001b[0;34m(\u001b[0m\u001b[0;34m)\u001b[0m\u001b[0;34m.\u001b[0m\u001b[0mget\u001b[0m\u001b[0;34m(\u001b[0m\u001b[0mx\u001b[0m\u001b[0;34m)\u001b[0m\u001b[0;34m)\u001b[0m\u001b[0;34m)\u001b[0m\u001b[0;34m\u001b[0m\u001b[0;34m\u001b[0m\u001b[0m\n\u001b[1;32m     10\u001b[0m             \u001b[0;32mfor\u001b[0m \u001b[0mx\u001b[0m \u001b[0;32min\u001b[0m \u001b[0mdir\u001b[0m\u001b[0;34m(\u001b[0m\u001b[0;34m)\u001b[0m\u001b[0;34m\u001b[0m\u001b[0;34m\u001b[0m\u001b[0m\n\u001b[0;32m---> 11\u001b[0;31m             \u001b[0;32mif\u001b[0m \u001b[0;32mnot\u001b[0m \u001b[0mx\u001b[0m\u001b[0;34m.\u001b[0m\u001b[0mstartswith\u001b[0m\u001b[0;34m(\u001b[0m\u001b[0;34m\"_\"\u001b[0m\u001b[0;34m)\u001b[0m \u001b[0;32mand\u001b[0m \u001b[0mx\u001b[0m \u001b[0;32mnot\u001b[0m \u001b[0;32min\u001b[0m \u001b[0msys\u001b[0m\u001b[0;34m.\u001b[0m\u001b[0mmodules\u001b[0m \u001b[0;32mand\u001b[0m \u001b[0mx\u001b[0m \u001b[0;32mnot\u001b[0m \u001b[0;32min\u001b[0m \u001b[0mipython_vars\u001b[0m\u001b[0;34m\u001b[0m\u001b[0;34m\u001b[0m\u001b[0m\n\u001b[0m\u001b[1;32m     12\u001b[0m         ],\n\u001b[1;32m     13\u001b[0m         \u001b[0mkey\u001b[0m\u001b[0;34m=\u001b[0m\u001b[0;32mlambda\u001b[0m \u001b[0mx\u001b[0m\u001b[0;34m:\u001b[0m \u001b[0mx\u001b[0m\u001b[0;34m[\u001b[0m\u001b[0;36m1\u001b[0m\u001b[0;34m]\u001b[0m\u001b[0;34m,\u001b[0m\u001b[0;34m\u001b[0m\u001b[0;34m\u001b[0m\u001b[0m\n",
            "\u001b[0;31mNameError\u001b[0m: name 'sys' is not defined"
          ]
        }
      ],
      "source": [
        "# These are the usual ipython objects\n",
        "ipython_vars = [\"In\", \"Out\", \"exit\", \"quit\", \"get_ipython\", \"ipython_vars\"]\n",
        "\n",
        "# Get a sorted list of the objects and their sizes\n",
        "mem = {\n",
        "    key: value\n",
        "    for key, value in sorted(\n",
        "        [\n",
        "            (x, sys.getsizeof(globals().get(x)))\n",
        "            for x in dir()\n",
        "            if not x.startswith(\"_\") and x not in sys.modules and x not in ipython_vars\n",
        "        ],\n",
        "        key=lambda x: x[1],\n",
        "        reverse=True,\n",
        "    )\n",
        "}\n",
        "\n",
        "total_mem_usage = sum(mem.values()) / (1024 ** 2)\n",
        "print(f\"Total Memory used by Notebook: {total_mem_usage:.2f} MB\")\n",
        "printMemoryUsage(df_features)"
      ]
    },
    {
      "cell_type": "code",
      "execution_count": null,
      "id": "1ecb65eb",
      "metadata": {
        "id": "1ecb65eb",
        "colab": {
          "base_uri": "https://localhost:8080/"
        },
        "outputId": "6e78c84f-51b7-4df7-b689-5a8e0adce705"
      },
      "outputs": [
        {
          "output_type": "stream",
          "name": "stdout",
          "text": [
            "Total Memory used by current DataFrame: 1671.06 MB\n"
          ]
        }
      ],
      "source": [
        "downcast_df(df_features)\n",
        "printMemoryUsage(df_features)"
      ]
    },
    {
      "cell_type": "markdown",
      "id": "5250fb83",
      "metadata": {
        "id": "5250fb83"
      },
      "source": [
        "### Sanity Check: Making sure splits have similar Fraud Account Rate\n",
        "\n",
        "Since we're working with Account and Transaction level data, we want to make sure the ratios are similar for each dataset split, i.e., the train and validation/test sets should have the same ratio for fraud information, even though the train dataset has more data.\n",
        "\n",
        "We want to also maintain the ratio after removing any data as well, which we'll perform below."
      ]
    },
    {
      "cell_type": "code",
      "execution_count": null,
      "id": "32d494ab",
      "metadata": {
        "id": "32d494ab",
        "colab": {
          "base_uri": "https://localhost:8080/"
        },
        "outputId": "d96628a7-b07b-407c-e7e1-ec34742fa17a"
      },
      "outputs": [
        {
          "output_type": "stream",
          "name": "stdout",
          "text": [
            "\u001b[1mBefore Removing\u001b[0m Non-Fraud Transactions From Fraud Accounts\n",
            "\n",
            "\u001b[1;32mTrain Set\u001b[0m\n",
            "\u001b[1;31m# of Unique PANs\u001b[0m = 1042\n",
            "# of NF and F Accounts = 1042\n",
            "# of Non-Fraud Accounts = 411\n",
            "# of Fraud Accounts = 631\n",
            "----------\n",
            "# of Transactions = 1050475\n",
            "# of Non-Fraud Transactions = 1043500\n",
            "# of Fraud Transactions = 6975\n",
            "----------\n",
            "\u001b[1;34mAccount Level\u001b[0m Fraud Rate = 0.6056\n",
            "\u001b[1;34mTransaction level\u001b[0m Fraud Rate = 0.0066\n",
            "# of Fraud Transactions / # of Fraud Accounts = 11.0539\n",
            "\n",
            "\u001b[1;32mTest Set\u001b[0m\n",
            "\u001b[1;31m# of Unique PANs\u001b[0m = 510\n",
            "# of NF and F Accounts = 510\n",
            "# of Non-Fraud Accounts = 244\n",
            "# of Fraud Accounts = 266\n",
            "----------\n",
            "# of Transactions = 561005\n",
            "# of Non-Fraud Transactions = 558481\n",
            "# of Fraud Transactions = 2524\n",
            "----------\n",
            "\u001b[1;34mAccount Level\u001b[0m Fraud Rate = 0.5216\n",
            "\u001b[1;34mTransaction level\u001b[0m Fraud Rate = 0.0045\n",
            "# of Fraud Transactions / # of Fraud Accounts = 9.4887\n",
            "\n",
            "\u001b[1;32mCombined Train and Test Sets\u001b[0m\n",
            "\u001b[1;31m# of Unique PANs\u001b[0m = 1552\n",
            "# of NF and F Accounts = 1552\n",
            "# of Non-Fraud Accounts = 655\n",
            "# of Fraud Accounts = 897\n",
            "----------\n",
            "# of Transactions = 1611480\n",
            "# of Non-Fraud Transactions = 1601981\n",
            "# of Fraud Transactions = 9499\n",
            "----------\n",
            "\u001b[1;34mAccount Level\u001b[0m Fraud Rate = 0.5780\n",
            "\u001b[1;34mTransaction level\u001b[0m Fraud Rate = 0.0059\n",
            "# of Fraud Transactions / # of Fraud Accounts = 10.5897\n"
          ]
        }
      ],
      "source": [
        "print(\"\\033[1mBefore Removing\\033[0m Non-Fraud Transactions From Fraud Accounts\\n\")\n",
        "dataset_count(df_features, df_isTrain=1)\n",
        "print(\"\")\n",
        "dataset_count(df_features, df_isTrain=0)\n",
        "print(\"\")\n",
        "dataset_count(df_features, df_isTrain=None)"
      ]
    },
    {
      "cell_type": "markdown",
      "id": "e5d1f411",
      "metadata": {
        "id": "e5d1f411"
      },
      "source": [
        "### Removing Non-Fraud Transactions from Fraud Accounts\n",
        "\n",
        "A fraud account will have transactions that are fraud and non-fraud. To ensure we dont have any uncertainty with a transaction being non-fraud or not in a fraud account, we remove the records that have non-fraud transaction from fraud accounts."
      ]
    },
    {
      "cell_type": "code",
      "execution_count": null,
      "id": "ddcde20e",
      "metadata": {
        "id": "ddcde20e"
      },
      "outputs": [],
      "source": [
        "df_features = filterNFTrxfromFAccn(df_features)"
      ]
    },
    {
      "cell_type": "code",
      "execution_count": null,
      "id": "a0fbe365",
      "metadata": {
        "id": "a0fbe365",
        "colab": {
          "base_uri": "https://localhost:8080/"
        },
        "outputId": "ceaced02-ef53-4c28-bedd-183bd5a869b6"
      },
      "outputs": [
        {
          "output_type": "stream",
          "name": "stdout",
          "text": [
            "\u001b[1mAfter Removing\u001b[0m Non-Fraud Transactions From Fraud Accounts\n",
            "\n",
            "\u001b[1;32mTrain Set\u001b[0m\n",
            "\u001b[1;31m# of Unique PANs\u001b[0m = 1041\n",
            "# of NF and F Accounts = 1041\n",
            "# of Non-Fraud Accounts = 411\n",
            "# of Fraud Accounts = 630\n",
            "----------\n",
            "# of Transactions = 520497\n",
            "# of Non-Fraud Transactions = 513522\n",
            "# of Fraud Transactions = 6975\n",
            "----------\n",
            "\u001b[1;34mAccount Level\u001b[0m Fraud Rate = 0.6052\n",
            "\u001b[1;34mTransaction level\u001b[0m Fraud Rate = 0.0134\n",
            "# of Fraud Transactions / # of Fraud Accounts = 11.0714\n",
            "\n",
            "\u001b[1;32mTest Set\u001b[0m\n",
            "\u001b[1;31m# of Unique PANs\u001b[0m = 490\n",
            "# of NF and F Accounts = 490\n",
            "# of Non-Fraud Accounts = 244\n",
            "# of Fraud Accounts = 246\n",
            "----------\n",
            "# of Transactions = 306485\n",
            "# of Non-Fraud Transactions = 303961\n",
            "# of Fraud Transactions = 2524\n",
            "----------\n",
            "\u001b[1;34mAccount Level\u001b[0m Fraud Rate = 0.5020\n",
            "\u001b[1;34mTransaction level\u001b[0m Fraud Rate = 0.0082\n",
            "# of Fraud Transactions / # of Fraud Accounts = 10.2602\n",
            "\n",
            "\u001b[1;32mCombined Train and Test Sets\u001b[0m\n",
            "\u001b[1;31m# of Unique PANs\u001b[0m = 1531\n",
            "# of NF and F Accounts = 1531\n",
            "# of Non-Fraud Accounts = 655\n",
            "# of Fraud Accounts = 876\n",
            "----------\n",
            "# of Transactions = 826982\n",
            "# of Non-Fraud Transactions = 817483\n",
            "# of Fraud Transactions = 9499\n",
            "----------\n",
            "\u001b[1;34mAccount Level\u001b[0m Fraud Rate = 0.5722\n",
            "\u001b[1;34mTransaction level\u001b[0m Fraud Rate = 0.0115\n",
            "# of Fraud Transactions / # of Fraud Accounts = 10.8436\n"
          ]
        }
      ],
      "source": [
        "print(\"\\033[1mAfter Removing\\033[0m Non-Fraud Transactions From Fraud Accounts\\n\")\n",
        "dataset_count(df_features, df_isTrain=1)\n",
        "print(\"\")\n",
        "dataset_count(df_features, df_isTrain=0)\n",
        "print(\"\")\n",
        "dataset_count(df_features, df_isTrain=None)"
      ]
    },
    {
      "cell_type": "markdown",
      "id": "9868714e",
      "metadata": {
        "id": "9868714e"
      },
      "source": [
        "### Profile Maturation\n",
        "\n",
        "Since some of our profile variables depend on potentially long periods of time, we would like to allow those features to fully build up to their entire calculation window. Ideally, we would have several months before the training period to allow for these features to mature, but since we only have a year's worth of data, we will restrict ourselves to a maximum of 2 month windows, allowing our data to train on the remaining 10 months of data. These initial 2 months are known as the _profile maturation period_, where these profile variables properly develop."
      ]
    },
    {
      "cell_type": "code",
      "execution_count": null,
      "id": "0aef0392",
      "metadata": {
        "id": "0aef0392",
        "colab": {
          "base_uri": "https://localhost:8080/"
        },
        "outputId": "1ed65f29-0cc8-438f-8800-e241ae88f8ba"
      },
      "outputs": [
        {
          "output_type": "stream",
          "name": "stdout",
          "text": [
            "Earliest date:  2020-01-01 00:00:02\n",
            "Cutoff date:    2020-03-01 00:00:02\n"
          ]
        }
      ],
      "source": [
        "df_features = matureProf_n_months(df_features, 'transactionDateTime', ['pan','transactionDateTime'], n_months=2)"
      ]
    },
    {
      "cell_type": "code",
      "source": [
        "print(\"\\033[1mAfter Maturing Profiles\\033[0m Non-Fraud Transactions From Fraud Accounts\\n\")\n",
        "dataset_count(df_features, df_isTrain=1)\n",
        "print(\"\")\n",
        "dataset_count(df_features, df_isTrain=0)\n",
        "print(\"\")\n",
        "dataset_count(df_features, df_isTrain=None)"
      ],
      "metadata": {
        "id": "K283logugH-o",
        "colab": {
          "base_uri": "https://localhost:8080/"
        },
        "outputId": "1e949fd7-c6d3-4fbd-ea3b-c94cdcd9651a"
      },
      "id": "K283logugH-o",
      "execution_count": null,
      "outputs": [
        {
          "output_type": "stream",
          "name": "stdout",
          "text": [
            "\u001b[1mAfter Maturing Profiles\u001b[0m Non-Fraud Transactions From Fraud Accounts\n",
            "\n",
            "\u001b[1;32mTrain Set\u001b[0m\n",
            "\u001b[1;31m# of Unique PANs\u001b[0m = 967\n",
            "# of NF and F Accounts = 967\n",
            "# of Non-Fraud Accounts = 411\n",
            "# of Fraud Accounts = 556\n",
            "----------\n",
            "# of Transactions = 447234\n",
            "# of Non-Fraud Transactions = 441034\n",
            "# of Fraud Transactions = 6200\n",
            "----------\n",
            "\u001b[1;34mAccount Level\u001b[0m Fraud Rate = 0.5750\n",
            "\u001b[1;34mTransaction level\u001b[0m Fraud Rate = 0.0139\n",
            "# of Fraud Transactions / # of Fraud Accounts = 11.1511\n",
            "\n",
            "\u001b[1;32mTest Set\u001b[0m\n",
            "\u001b[1;31m# of Unique PANs\u001b[0m = 455\n",
            "# of NF and F Accounts = 455\n",
            "# of Non-Fraud Accounts = 244\n",
            "# of Fraud Accounts = 211\n",
            "----------\n",
            "# of Transactions = 262866\n",
            "# of Non-Fraud Transactions = 260695\n",
            "# of Fraud Transactions = 2171\n",
            "----------\n",
            "\u001b[1;34mAccount Level\u001b[0m Fraud Rate = 0.4637\n",
            "\u001b[1;34mTransaction level\u001b[0m Fraud Rate = 0.0083\n",
            "# of Fraud Transactions / # of Fraud Accounts = 10.2891\n",
            "\n",
            "\u001b[1;32mCombined Train and Test Sets\u001b[0m\n",
            "\u001b[1;31m# of Unique PANs\u001b[0m = 1422\n",
            "# of NF and F Accounts = 1422\n",
            "# of Non-Fraud Accounts = 655\n",
            "# of Fraud Accounts = 767\n",
            "----------\n",
            "# of Transactions = 710100\n",
            "# of Non-Fraud Transactions = 701729\n",
            "# of Fraud Transactions = 8371\n",
            "----------\n",
            "\u001b[1;34mAccount Level\u001b[0m Fraud Rate = 0.5394\n",
            "\u001b[1;34mTransaction level\u001b[0m Fraud Rate = 0.0118\n",
            "# of Fraud Transactions / # of Fraud Accounts = 10.9140\n"
          ]
        }
      ]
    },
    {
      "cell_type": "code",
      "source": [
        "nan_columns = df_features.columns[df_features.isna().any()]\n",
        "print(f\"Columns with NaN values: {nan_columns}\")\n",
        "\n",
        "for nanCol in nan_columns:\n",
        "  num_nan = df_features[nanCol].isna().sum()\n",
        "  print(f\"The {nanCol} column contains {num_nan} NaN values.\")"
      ],
      "metadata": {
        "id": "7Gi8K-IircZG",
        "colab": {
          "base_uri": "https://localhost:8080/"
        },
        "outputId": "805a3f95-e01c-4b58-ca24-b2b9dbb9e3f8"
      },
      "id": "7Gi8K-IircZG",
      "execution_count": null,
      "outputs": [
        {
          "output_type": "stream",
          "name": "stdout",
          "text": [
            "Columns with NaN values: Index([], dtype='object')\n"
          ]
        }
      ]
    },
    {
      "cell_type": "markdown",
      "id": "2a7afb8e",
      "metadata": {
        "id": "2a7afb8e"
      },
      "source": [
        "### Partitioning Dataset into Train and Test Set\n",
        "\n",
        "Remember, Garbage in will output garbage. It's crucial to know which data is going into the neural network. In week 4, input features were engineered to provide enhanced inputs to the model.\n",
        "\n",
        "Remember, the size of the input layer is the number of input features used."
      ]
    },
    {
      "cell_type": "markdown",
      "source": [
        "### <font size=\"5\" color=\"Red\">TO DO</font> Feature Selection:\n",
        "Implement your own code of analysis (Please refer to week 5 where we have gone through this process) for the following feature selection (described above):\n",
        "  - Constant\n",
        "  - High Missing Rate\n",
        "  - Linearly Dependent variables by pearson correlation\n",
        "  - Target Leak variables by pearson correlation\n",
        "  - Semantic Diversity\n",
        "\n",
        "#### Hints: (X being the dataframe, or sub dataframe with specific columns)\n",
        "-  <font color=\"DeepSkyBlue\">Constant Variable</font>: by using X.std() [Pandas](https://pandas.pydata.org/docs/reference/api/pandas.DataFrame.std.html)\n",
        "- <font color=\"DeepSkyBlue\">High Missing Rate</font>: by checking X.isna().mean()\n",
        "- <font color=\"DeepSkyBlue\">Linearly Dependentand Target Leakage Variables</font>: using Pearson Correlation, via X.corr(), remember to include the target column\n",
        "- <font color=\"DeepSkyBlue\">Semantic Diversity</font>: you need to understand the variables you created (highly subjective)"
      ],
      "metadata": {
        "id": "dnmGfijvuSlt"
      },
      "id": "dnmGfijvuSlt"
    },
    {
      "cell_type": "markdown",
      "source": [
        "### UPDATE ``feature_columns`` According to Analysis\n",
        "<b><font size=\"4\" color='red'><u>NOTE:</u></font></b>\n",
        "If you don't have new variables, the ``feature_columns`` below can just be the old one you used in previous sessions."
      ],
      "metadata": {
        "id": "qe8NQ3qkuSaV"
      },
      "id": "qe8NQ3qkuSaV"
    },
    {
      "cell_type": "code",
      "source": [
        "# Add the feature columns you want to remove as inputs in model to the list below\n",
        "columnsToRemove = ['transactionHour']"
      ],
      "metadata": {
        "id": "TLOAFAgXuI6w"
      },
      "id": "TLOAFAgXuI6w",
      "execution_count": null,
      "outputs": []
    },
    {
      "cell_type": "code",
      "source": [
        "feature_columns_original = feature_columns.copy()\n",
        "for col in columnsToRemove:\n",
        "  feature_columns.remove(col)"
      ],
      "metadata": {
        "id": "a2vKzRHEuIs9",
        "colab": {
          "base_uri": "https://localhost:8080/",
          "height": 176
        },
        "outputId": "591e47df-7f53-443a-955c-40838d9b4fa5"
      },
      "id": "a2vKzRHEuIs9",
      "execution_count": null,
      "outputs": [
        {
          "output_type": "error",
          "ename": "NameError",
          "evalue": "name 'feature_columns' is not defined",
          "traceback": [
            "\u001b[0;31m---------------------------------------------------------------------------\u001b[0m",
            "\u001b[0;31mNameError\u001b[0m                                 Traceback (most recent call last)",
            "\u001b[0;32m<ipython-input-5-f03da137e497>\u001b[0m in \u001b[0;36m<cell line: 0>\u001b[0;34m()\u001b[0m\n\u001b[0;32m----> 1\u001b[0;31m \u001b[0mfeature_columns_original\u001b[0m \u001b[0;34m=\u001b[0m \u001b[0mfeature_columns\u001b[0m\u001b[0;34m.\u001b[0m\u001b[0mcopy\u001b[0m\u001b[0;34m(\u001b[0m\u001b[0;34m)\u001b[0m\u001b[0;34m\u001b[0m\u001b[0;34m\u001b[0m\u001b[0m\n\u001b[0m\u001b[1;32m      2\u001b[0m \u001b[0;32mfor\u001b[0m \u001b[0mcol\u001b[0m \u001b[0;32min\u001b[0m \u001b[0mcolumnsToRemove\u001b[0m\u001b[0;34m:\u001b[0m\u001b[0;34m\u001b[0m\u001b[0;34m\u001b[0m\u001b[0m\n\u001b[1;32m      3\u001b[0m   \u001b[0mfeature_columns\u001b[0m\u001b[0;34m.\u001b[0m\u001b[0mremove\u001b[0m\u001b[0;34m(\u001b[0m\u001b[0mcol\u001b[0m\u001b[0;34m)\u001b[0m\u001b[0;34m\u001b[0m\u001b[0;34m\u001b[0m\u001b[0m\n",
            "\u001b[0;31mNameError\u001b[0m: name 'feature_columns' is not defined"
          ]
        }
      ]
    },
    {
      "cell_type": "code",
      "execution_count": null,
      "id": "23e5b753",
      "metadata": {
        "id": "23e5b753",
        "colab": {
          "base_uri": "https://localhost:8080/",
          "height": 211
        },
        "outputId": "8262f56c-b1b5-4552-beb8-be76d92911e9"
      },
      "outputs": [
        {
          "output_type": "error",
          "ename": "NameError",
          "evalue": "name 'df_features' is not defined",
          "traceback": [
            "\u001b[0;31m---------------------------------------------------------------------------\u001b[0m",
            "\u001b[0;31mNameError\u001b[0m                                 Traceback (most recent call last)",
            "\u001b[0;32m<ipython-input-6-47225e4272be>\u001b[0m in \u001b[0;36m<cell line: 0>\u001b[0;34m()\u001b[0m\n\u001b[1;32m      1\u001b[0m \u001b[0;31m# Partition data\u001b[0m\u001b[0;34m\u001b[0m\u001b[0;34m\u001b[0m\u001b[0m\n\u001b[0;32m----> 2\u001b[0;31m \u001b[0mX_train\u001b[0m \u001b[0;34m=\u001b[0m \u001b[0mdf_features\u001b[0m\u001b[0;34m.\u001b[0m\u001b[0mloc\u001b[0m\u001b[0;34m[\u001b[0m\u001b[0mdf_features\u001b[0m\u001b[0;34m[\u001b[0m\u001b[0;34m\"is_train\"\u001b[0m\u001b[0;34m]\u001b[0m\u001b[0;34m==\u001b[0m\u001b[0;36m1\u001b[0m\u001b[0;34m,\u001b[0m \u001b[0mfeature_columns\u001b[0m\u001b[0;34m]\u001b[0m\u001b[0;34m.\u001b[0m\u001b[0mvalues\u001b[0m\u001b[0;34m\u001b[0m\u001b[0;34m\u001b[0m\u001b[0m\n\u001b[0m\u001b[1;32m      3\u001b[0m \u001b[0my_train\u001b[0m \u001b[0;34m=\u001b[0m \u001b[0mdf_features\u001b[0m\u001b[0;34m.\u001b[0m\u001b[0mloc\u001b[0m\u001b[0;34m[\u001b[0m\u001b[0mdf_features\u001b[0m\u001b[0;34m[\u001b[0m\u001b[0;34m\"is_train\"\u001b[0m\u001b[0;34m]\u001b[0m\u001b[0;34m==\u001b[0m\u001b[0;36m1\u001b[0m\u001b[0;34m,\u001b[0m \u001b[0mlabel_column\u001b[0m\u001b[0;34m]\u001b[0m\u001b[0;34m.\u001b[0m\u001b[0mvalues\u001b[0m\u001b[0;34m\u001b[0m\u001b[0;34m\u001b[0m\u001b[0m\n\u001b[1;32m      4\u001b[0m \u001b[0mX_valid\u001b[0m \u001b[0;34m=\u001b[0m \u001b[0mdf_features\u001b[0m\u001b[0;34m.\u001b[0m\u001b[0mloc\u001b[0m\u001b[0;34m[\u001b[0m\u001b[0mdf_features\u001b[0m\u001b[0;34m[\u001b[0m\u001b[0;34m\"is_train\"\u001b[0m\u001b[0;34m]\u001b[0m\u001b[0;34m==\u001b[0m\u001b[0;36m0\u001b[0m\u001b[0;34m,\u001b[0m \u001b[0mfeature_columns\u001b[0m\u001b[0;34m]\u001b[0m\u001b[0;34m.\u001b[0m\u001b[0mvalues\u001b[0m\u001b[0;34m\u001b[0m\u001b[0;34m\u001b[0m\u001b[0m\n\u001b[1;32m      5\u001b[0m \u001b[0my_valid\u001b[0m \u001b[0;34m=\u001b[0m \u001b[0mdf_features\u001b[0m\u001b[0;34m.\u001b[0m\u001b[0mloc\u001b[0m\u001b[0;34m[\u001b[0m\u001b[0mdf_features\u001b[0m\u001b[0;34m[\u001b[0m\u001b[0;34m\"is_train\"\u001b[0m\u001b[0;34m]\u001b[0m\u001b[0;34m==\u001b[0m\u001b[0;36m0\u001b[0m\u001b[0;34m,\u001b[0m \u001b[0mlabel_column\u001b[0m\u001b[0;34m]\u001b[0m\u001b[0;34m.\u001b[0m\u001b[0mvalues\u001b[0m\u001b[0;34m\u001b[0m\u001b[0;34m\u001b[0m\u001b[0m\n",
            "\u001b[0;31mNameError\u001b[0m: name 'df_features' is not defined"
          ]
        }
      ],
      "source": [
        "# Partition data\n",
        "X_train = df_features.loc[df_features[\"is_train\"]==1, feature_columns].values\n",
        "y_train = df_features.loc[df_features[\"is_train\"]==1, label_column].values\n",
        "X_valid = df_features.loc[df_features[\"is_train\"]==0, feature_columns].values\n",
        "y_valid = df_features.loc[df_features[\"is_train\"]==0, label_column].values"
      ]
    },
    {
      "cell_type": "code",
      "execution_count": null,
      "id": "9db54d64",
      "metadata": {
        "id": "9db54d64",
        "colab": {
          "base_uri": "https://localhost:8080/",
          "height": 193
        },
        "outputId": "3e88350b-3af0-4c6a-8c2b-c0555461cc6f"
      },
      "outputs": [
        {
          "output_type": "error",
          "ename": "NameError",
          "evalue": "name 'X_train' is not defined",
          "traceback": [
            "\u001b[0;31m---------------------------------------------------------------------------\u001b[0m",
            "\u001b[0;31mNameError\u001b[0m                                 Traceback (most recent call last)",
            "\u001b[0;32m<ipython-input-7-9613de4d0728>\u001b[0m in \u001b[0;36m<cell line: 0>\u001b[0;34m()\u001b[0m\n\u001b[0;32m----> 1\u001b[0;31m \u001b[0mprint\u001b[0m\u001b[0;34m(\u001b[0m\u001b[0;34m'X_train :'\u001b[0m\u001b[0;34m,\u001b[0m \u001b[0mX_train\u001b[0m\u001b[0;34m.\u001b[0m\u001b[0mshape\u001b[0m\u001b[0;34m)\u001b[0m\u001b[0;34m\u001b[0m\u001b[0;34m\u001b[0m\u001b[0m\n\u001b[0m\u001b[1;32m      2\u001b[0m \u001b[0mprint\u001b[0m\u001b[0;34m(\u001b[0m\u001b[0;34m'X_valid :'\u001b[0m\u001b[0;34m,\u001b[0m \u001b[0mX_valid\u001b[0m\u001b[0;34m.\u001b[0m\u001b[0mshape\u001b[0m\u001b[0;34m)\u001b[0m\u001b[0;34m\u001b[0m\u001b[0;34m\u001b[0m\u001b[0m\n\u001b[1;32m      3\u001b[0m \u001b[0mprint\u001b[0m\u001b[0;34m(\u001b[0m\u001b[0;34m'y_train :'\u001b[0m\u001b[0;34m,\u001b[0m \u001b[0my_train\u001b[0m\u001b[0;34m.\u001b[0m\u001b[0mshape\u001b[0m\u001b[0;34m)\u001b[0m\u001b[0;34m\u001b[0m\u001b[0;34m\u001b[0m\u001b[0m\n\u001b[1;32m      4\u001b[0m \u001b[0mprint\u001b[0m\u001b[0;34m(\u001b[0m\u001b[0;34m'y_valid :'\u001b[0m\u001b[0;34m,\u001b[0m \u001b[0my_valid\u001b[0m\u001b[0;34m.\u001b[0m\u001b[0mshape\u001b[0m\u001b[0;34m)\u001b[0m\u001b[0;34m\u001b[0m\u001b[0;34m\u001b[0m\u001b[0m\n",
            "\u001b[0;31mNameError\u001b[0m: name 'X_train' is not defined"
          ]
        }
      ],
      "source": [
        "print('X_train :', X_train.shape)\n",
        "print('X_valid :', X_valid.shape)\n",
        "print('y_train :', y_train.shape)\n",
        "print('y_valid :', y_valid.shape)"
      ]
    },
    {
      "cell_type": "markdown",
      "id": "a25cff21",
      "metadata": {
        "id": "a25cff21"
      },
      "source": [
        "### Normalizing (Scaling) Dataset <font color='red'>(**Do Not Modify**)</font>\n",
        "\n",
        "Standard Scaler standardizes the features by removing the mean and scaling to the standard deviation. Centering and scaling happen independently on each feature by computing the relevant statistics on the samples in the dataset. For now, we will create the scaler variable on the entire dataset and then apply it to the input dataset after we remove specific records from the dataset. We're establishing what our parameters are, so we don't update our scaling parameters on new data since model will be trained on these input features.\n",
        "\n",
        "The key concept to understand here is that whatever dataset is used to train the NNet, before its used as inputs, they need to be scaled. The scaling must be saved, so that once the model has finished training, any new data that’s fed into the NNet for predictions can easily be transformed to the correct scaling needed by the model."
      ]
    },
    {
      "cell_type": "code",
      "source": [
        "# Create scaler to fit on dataset\n",
        "scaler = StandardScaler()\n",
        "X_train = scaler.fit_transform(X_train)\n",
        "scaler.fit(df_features[feature_columns])\n",
        "\n",
        "# Save the scaler\n",
        "dump(scaler, open(scaleFile, 'wb'))\n",
        "\n",
        "# Write each feature to file\n",
        "with open(scaleFileFeatures, 'w') as file:\n",
        "    for feature in feature_columns:\n",
        "        file.write(f\"{feature}\\n\")\n",
        "\n",
        "# Scale input data\n",
        "X_train = scaler.transform(X_train)\n",
        "X_valid = scaler.transform(X_valid)"
      ],
      "metadata": {
        "id": "aX7T7OvaHgwT"
      },
      "id": "aX7T7OvaHgwT",
      "execution_count": null,
      "outputs": []
    },
    {
      "cell_type": "markdown",
      "id": "e145975e",
      "metadata": {
        "id": "e145975e"
      },
      "source": [
        "### DataLoader: Shuffling (If interested, please read)\n",
        "Shuffling is done during the model training to make sure we aren't exposing our model to the same cycle (order) of data in every epoch, and is important for several reasons:\n",
        "\n",
        "- **Preventing Bias:** Without shuffling, the model might learn patterns based on the order of the data, leading to biased training and potentially poor generalization to unseen data.\n",
        "- **Randomness in Batch Selection:** When training in mini-batches, shuffling ensures that each batch contains a diverse set of samples from the dataset. This randomness helps the model learn more effectively and prevents it from memorizing specific patterns within a batch.\n",
        "- **Improving Generalization:** Shuffling the data helps to ensure that the model generalizes well to unseen data by exposing it to a variety of samples during training. This can lead to better performance on validation and test datasets.\n",
        "- **Breaking Patterns:** In some cases, the dataset might have inherent patterns based on the order of samples (e.g., temporal or spatial patterns). Shuffling disrupts these patterns, forcing the model to learn more robust features.\n",
        "- **Avoiding Overfitting:** Shuffling helps to mitigate overfitting by preventing the model from memorizing the specific characteristics of the training data, which may not generalize well to new data.\n",
        "\n",
        "The above can be easily handled by using PyTorch's DataLoader. PyTorch's DataLoader is a powerful tool for efficiently loading and processing data for training deep learning models. It provides functionalities for batching, shuffling, and processing data, making it easier to work with large datasets. Before we use the DataLoader, the dataset must be converted to PyTorch tensors, which can be done by passing it to a python class.\n",
        "\n",
        "Below are some resources that explain Python Classes and Object\n",
        "- [Class Source 1](https://dabeaz-course.github.io/practical-python/Notes/04_Classes_objects/00_Overview.html)\n",
        "- [Class Source 2](https://www.w3schools.com/python/python_classes.asp)\n",
        "- [Class Source 3](https://exercism.org/tracks/python/concepts/classes)\n",
        "- [Class Source 4](https://www.learnpython.org/en/Classes_and_Objects)\n",
        "- [DataLoader Source 1](https://pytorch.org/docs/stable/data.html)\n",
        "- [DataLoader Source 2](https://machinelearningmastery.com/training-a-pytorch-model-with-dataloader-and-dataset/)\n",
        "\n",
        "### Converting Dataset into PyTorch Format <font color='red'>(**Do Not Modify**)</font>"
      ]
    },
    {
      "cell_type": "code",
      "execution_count": null,
      "id": "65b5067c",
      "metadata": {
        "id": "65b5067c"
      },
      "outputs": [],
      "source": [
        "# Create dataset and dataloader for training\n",
        "train_dataset = MyDataset(X_train, y_train)\n",
        "valid_data = MyDataset(X_valid, y_valid)"
      ]
    },
    {
      "cell_type": "code",
      "execution_count": null,
      "id": "411d14d0-7d9d-4a76-a056-0f89a7d3868c",
      "metadata": {
        "id": "411d14d0-7d9d-4a76-a056-0f89a7d3868c"
      },
      "outputs": [],
      "source": [
        "# set up DataLoader for training and validation set\n",
        "train_loader = DataLoader(train_dataset, batch_size=256, shuffle=True, drop_last=False)\n",
        "valid_loader = DataLoader(valid_data, batch_size=len(valid_data), shuffle=False, drop_last=False)"
      ]
    },
    {
      "cell_type": "markdown",
      "id": "de2cbf20",
      "metadata": {
        "id": "de2cbf20"
      },
      "source": [
        "### Simple FeedForward NNet <font color='red'>(**Do Not Modify**)</font>\n",
        "\n",
        "Setting up an NNet from scratch is out of scope for this class, so please do not modify the NNet class.\n",
        "\n",
        "The input layer will be the input features that are specified in **feature_columns**.\n",
        "\n"
      ]
    },
    {
      "cell_type": "markdown",
      "id": "0a9e711e",
      "metadata": {
        "id": "0a9e711e"
      },
      "source": [
        "### Hyper-parameters\n",
        "\n",
        "The **num_hidden_units** parameter, which controls the number of nodes in the hidden layer, plays a big role in how well the model learns and the training duration. Please refer to the earlier NNet images. The **num_hidden_units** will vary between models, but the following should be maintained:\n",
        "- **num_hidden_units** >=1\n",
        "- **num_hidden_units** <= number of inputs features\n",
        "- **num_hidden_units** should be a multiple of 2's, for memory purposes\n",
        "    - this is not a rule, but it can help with efficiency\n",
        "\n",
        "The following parameters should not be changed, unless specified:\n",
        "- dropout_rate\n",
        "- learning_rate\n",
        "    \n",
        "Remember, the size of the input layer is the number of input features used."
      ]
    },
    {
      "cell_type": "code",
      "execution_count": null,
      "id": "9d5c6bb8-0906-4274-b994-cbffa27ef5ae",
      "metadata": {
        "id": "9d5c6bb8-0906-4274-b994-cbffa27ef5ae"
      },
      "outputs": [],
      "source": [
        "#hyper-parameters\n",
        "dropout_rate = 0.2\n",
        "num_hidden_units = 4\n",
        "learning_rate = 0.0001\n",
        "patience = 20\n",
        "lauc_threshold = 0.02"
      ]
    },
    {
      "cell_type": "code",
      "execution_count": null,
      "id": "9d590ac7",
      "metadata": {
        "id": "9d590ac7",
        "colab": {
          "base_uri": "https://localhost:8080/"
        },
        "outputId": "a3171241-8d48-4359-9b2f-f7748c73648e"
      },
      "outputs": [
        {
          "output_type": "stream",
          "name": "stdout",
          "text": [
            "Total Memory used by Notebook: 2885.23 MB\n"
          ]
        }
      ],
      "source": [
        "# These are the usual ipython objects\n",
        "ipython_vars = [\"In\", \"Out\", \"exit\", \"quit\", \"get_ipython\", \"ipython_vars\"]\n",
        "\n",
        "# Get a sorted list of the objects and their sizes\n",
        "mem = {\n",
        "    key: value\n",
        "    for key, value in sorted(\n",
        "        [\n",
        "            (x, sys.getsizeof(globals().get(x)))\n",
        "            for x in dir()\n",
        "            if not x.startswith(\"_\") and x not in sys.modules and x not in ipython_vars\n",
        "        ],\n",
        "        key=lambda x: x[1],\n",
        "        reverse=True,\n",
        "    )\n",
        "}\n",
        "\n",
        "total_mem_usage = sum(mem.values()) / (1024 ** 2)\n",
        "print(f\"Total Memory used by Notebook: {total_mem_usage:.2f} MB\")"
      ]
    },
    {
      "cell_type": "markdown",
      "id": "747e40b9",
      "metadata": {
        "id": "747e40b9"
      },
      "source": [
        "### Simple NNet Training Script <font color='red'>(**Do Not Modify**)</font>\n",
        "\n",
        "Please treat the training process below as a blackbox, meaning hidden information thats very difficult to explain. Setting up a training cycle is out of scope for this project since it's task specific and takes time to properly code and configure. All that you need to do is run the code below.\n",
        "\n",
        "The training process is conducted over several iterations (epochs). During each epoch, the model learns parameters to make better predictions. We print the model’s loss at each epoch; we’d like to see the loss decrease with every epoch.\n",
        "\n",
        "**The Train Loop:**\n",
        "- Select a mini-batch of data\n",
        "- Use the model to make predictions\n",
        "- Calculate the loss\n",
        "- Use loss.backward() updates the gradients of the model\n",
        "- Update the parameters using optimizer.step()\n",
        "\n",
        "#### ROC, AUC & LAUC (Partial AUC)\n",
        "AUC (Area Under the Curve) calculations are a commonly used metric for evaluating the performance of binary classification models. The traditional AUC calculates the area under the ROC (Receiver Operating Characteristic) curve, which plots the True Positive Rate (TPR) against the False Positive Rate (FPR) for all possible threshold values. The value ranges from 0.5 for a random model to 1 for a perfect model, with values closer to 1 indicating better performance.\n",
        "\n",
        "However, in real-world applications, the class distribution of the target variable can be **<font color='DeepSkyBlue'>highly imbalanced</font>** (e.g., more non-frauds than frauds), meaning that one class is much more prevalent than the other. In these cases, the traditional AUC score may not provide a good evaluation of the model’s performance as it aggregates the performance overall threshold values and does not account for the imbalance in the class distribution. For instance, the region where FPR is greater than 0.8 involves more than 80% of negative subjects are incorrectly classified as positives: this is unacceptable in many real cases.\n",
        "\n",
        "This is where partial AUCs (referenced at LAUC in this notebook) come into play. Unlike traditional AUC, they focus on a specific region of the ROC curve, providing a more granular evaluation of the model’s performance. This allows for a more accurate evaluation of the model’s performance, especially in cases where the class distribution is highly imbalanced.\n",
        "\n",
        "For example, in our fraud detection problem, the partial AUC can be calculated for the region where the FPR is less than a specific value, such as 0.02. This provides an evaluation of the model’s performance at catching fraud instances while ignoring the performance on the majority class instances. This information can be used to make informed decisions about which models to use, how to improve models, and how to adjust the threshold values for predictions. To read more about LAUCs, please refer to the link below.\n",
        "\n",
        "[LAUC Source](https://en.wikipedia.org/wiki/Partial_Area_Under_the_ROC_Curve)\n",
        "\n",
        "#### Training Loop Stopping Criteria\n",
        "The training is setup such that after finding a model that produces the best LAUC, denoted with (\\*), the training continues until a consecutive number of specified epochs (i.e., the value in the **patience** hyperparameter) completes without finding a better model.\n",
        "\n",
        "<font color='red'>(**Warning: Takes a long time**)</font>"
      ]
    },
    {
      "cell_type": "code",
      "execution_count": null,
      "id": "c0a37cab",
      "metadata": {
        "id": "c0a37cab",
        "colab": {
          "base_uri": "https://localhost:8080/"
        },
        "outputId": "125a96fb-039e-4eda-ec1f-7d772f3f8c3e"
      },
      "outputs": [
        {
          "output_type": "stream",
          "name": "stdout",
          "text": [
            "\u001b[1;32mEpoch\u001b[0m 1: Time= 11.57s, Training Loss= 0.6965326*, Valid Loss= 0.5640604*, Valid AUC= 0.9601857*, Valid LAUC= 0.6267588*\n",
            "\u001b[1mEpoch\u001b[0m 2: Time= 10.99s, Training Loss= 0.4029869*, Valid Loss= 0.3274252*, Valid AUC= 0.9579993, Valid LAUC= 0.6166824\n",
            "\u001b[1mEpoch\u001b[0m 3: Time= 10.02s, Training Loss= 0.2474020*, Valid Loss= 0.1848397*, Valid AUC= 0.9575562, Valid LAUC= 0.6238541\n",
            "\u001b[1;32mEpoch\u001b[0m 4: Time= 10.03s, Training Loss= 0.1655874*, Valid Loss= 0.1024317*, Valid AUC= 0.9570219, Valid LAUC= 0.6353075*\n",
            "\u001b[1;32mEpoch\u001b[0m 5: Time= 10.84s, Training Loss= 0.1180106*, Valid Loss= 0.0651273*, Valid AUC= 0.9616200*, Valid LAUC= 0.6766346*\n",
            "\u001b[1;32mEpoch\u001b[0m 6: Time= 10.61s, Training Loss= 0.0875699*, Valid Loss= 0.0486022*, Valid AUC= 0.9654251*, Valid LAUC= 0.7091644*\n",
            "\u001b[1;32mEpoch\u001b[0m 7: Time= 9.85s, Training Loss= 0.0732404*, Valid Loss= 0.0370169*, Valid AUC= 0.9675764*, Valid LAUC= 0.7414857*\n",
            "\u001b[1;32mEpoch\u001b[0m 8: Time= 10.23s, Training Loss= 0.0648568*, Valid Loss= 0.0321521*, Valid AUC= 0.9669178, Valid LAUC= 0.7618342*\n",
            "\u001b[1;32mEpoch\u001b[0m 9: Time= 10.29s, Training Loss= 0.0586386*, Valid Loss= 0.0311710*, Valid AUC= 0.9662103, Valid LAUC= 0.7763584*\n",
            "\u001b[1;32mEpoch\u001b[0m 10: Time= 11.02s, Training Loss= 0.0538024*, Valid Loss= 0.0314001, Valid AUC= 0.9639717, Valid LAUC= 0.7784533*\n",
            "\u001b[1;32mEpoch\u001b[0m 11: Time= 10.07s, Training Loss= 0.0504717*, Valid Loss= 0.0321996, Valid AUC= 0.9633034, Valid LAUC= 0.7802479*\n",
            "\u001b[1mEpoch\u001b[0m 12: Time= 9.85s, Training Loss= 0.0483818*, Valid Loss= 0.0322115, Valid AUC= 0.9616247, Valid LAUC= 0.7760393\n",
            "\u001b[1mEpoch\u001b[0m 13: Time= 10.38s, Training Loss= 0.0432013*, Valid Loss= 0.0318928, Valid AUC= 0.9594615, Valid LAUC= 0.7713793\n",
            "\u001b[1mEpoch\u001b[0m 14: Time= 11.00s, Training Loss= 0.0422568*, Valid Loss= 0.0318207, Valid AUC= 0.9587585, Valid LAUC= 0.7680622\n",
            "\u001b[1mEpoch\u001b[0m 15: Time= 10.04s, Training Loss= 0.0420728*, Valid Loss= 0.0330686, Valid AUC= 0.9583690, Valid LAUC= 0.7694759\n",
            "\u001b[1mEpoch\u001b[0m 16: Time= 10.11s, Training Loss= 0.0410419*, Valid Loss= 0.0329963, Valid AUC= 0.9569923, Valid LAUC= 0.7664468\n",
            "\u001b[1mEpoch\u001b[0m 17: Time= 9.91s, Training Loss= 0.0402071*, Valid Loss= 0.0346788, Valid AUC= 0.9565489, Valid LAUC= 0.7690276\n",
            "\u001b[1mEpoch\u001b[0m 18: Time= 10.95s, Training Loss= 0.0404933, Valid Loss= 0.0341507, Valid AUC= 0.9560200, Valid LAUC= 0.7641154\n",
            "\u001b[1mEpoch\u001b[0m 19: Time= 10.07s, Training Loss= 0.0400869*, Valid Loss= 0.0337675, Valid AUC= 0.9554537, Valid LAUC= 0.7615252\n",
            "\u001b[1mEpoch\u001b[0m 20: Time= 10.17s, Training Loss= 0.0397313*, Valid Loss= 0.0344287, Valid AUC= 0.9558938, Valid LAUC= 0.7611116\n",
            "\u001b[1mEpoch\u001b[0m 21: Time= 9.78s, Training Loss= 0.0389405*, Valid Loss= 0.0325284, Valid AUC= 0.9554403, Valid LAUC= 0.7575730\n",
            "\u001b[1mEpoch\u001b[0m 22: Time= 11.01s, Training Loss= 0.0390420, Valid Loss= 0.0332281, Valid AUC= 0.9547412, Valid LAUC= 0.7541558\n",
            "\u001b[1mEpoch\u001b[0m 23: Time= 10.08s, Training Loss= 0.0383311*, Valid Loss= 0.0311253*, Valid AUC= 0.9555067, Valid LAUC= 0.7594494\n",
            "\u001b[1mEpoch\u001b[0m 24: Time= 10.35s, Training Loss= 0.0382881*, Valid Loss= 0.0311704, Valid AUC= 0.9555587, Valid LAUC= 0.7619981\n",
            "\u001b[1mEpoch\u001b[0m 25: Time= 9.70s, Training Loss= 0.0368282*, Valid Loss= 0.0313048, Valid AUC= 0.9532993, Valid LAUC= 0.7559181\n",
            "\u001b[1mEpoch\u001b[0m 26: Time= 11.11s, Training Loss= 0.0358467*, Valid Loss= 0.0317630, Valid AUC= 0.9519272, Valid LAUC= 0.7536125\n",
            "\u001b[1mEpoch\u001b[0m 27: Time= 10.35s, Training Loss= 0.0356995*, Valid Loss= 0.0315469, Valid AUC= 0.9517234, Valid LAUC= 0.7531771\n",
            "\u001b[1mEpoch\u001b[0m 28: Time= 10.78s, Training Loss= 0.0358423, Valid Loss= 0.0316114, Valid AUC= 0.9512128, Valid LAUC= 0.7565762\n",
            "\u001b[1mEpoch\u001b[0m 29: Time= 9.22s, Training Loss= 0.0353693*, Valid Loss= 0.0320954, Valid AUC= 0.9508928, Valid LAUC= 0.7585345\n",
            "\u001b[1mEpoch\u001b[0m 30: Time= 11.18s, Training Loss= 0.0352239*, Valid Loss= 0.0325997, Valid AUC= 0.9493083, Valid LAUC= 0.7556393\n",
            "\u001b[1mEpoch\u001b[0m 31: Time= 10.45s, Training Loss= 0.0347716*, Valid Loss= 0.0328711, Valid AUC= 0.9470465, Valid LAUC= 0.7536896\n",
            "\u001b[1mEpoch\u001b[0m 32: Time= 10.77s, Training Loss= 0.0343517*, Valid Loss= 0.0332736, Valid AUC= 0.9452700, Valid LAUC= 0.7515198\n"
          ]
        }
      ],
      "source": [
        "model_dict, train_losses, valid_losses, epochList_of_best_validLossLAUC, best_valid_auc, best_valid_lauc = \\\n",
        "  train_one_model(train_loader, valid_loader, device, num_hidden_units=num_hidden_units, dropout_rate=dropout_rate, l2=0, learning_rate=learning_rate, patience=patience, input_size=len(feature_columns), lauc_thrshld=lauc_threshold)"
      ]
    },
    {
      "cell_type": "code",
      "execution_count": null,
      "id": "c3015578",
      "metadata": {
        "id": "c3015578"
      },
      "outputs": [],
      "source": [
        "epochList_of_best_validLossLAUC = np.array(epochList_of_best_validLossLAUC)"
      ]
    },
    {
      "cell_type": "code",
      "execution_count": null,
      "id": "a87616ae",
      "metadata": {
        "id": "a87616ae"
      },
      "outputs": [],
      "source": [
        "train_losses_lauc = np.array(train_losses)[epochList_of_best_validLossLAUC.astype(int)]\n",
        "valid_losses_lauc = np.array(valid_losses)[epochList_of_best_validLossLAUC.astype(int)]"
      ]
    },
    {
      "cell_type": "markdown",
      "id": "4ec031f8",
      "metadata": {
        "id": "4ec031f8"
      },
      "source": [
        "### Training and Validation Loss Plot\n",
        "\n",
        "In most deep learning projects, the training and validation loss is usually visualized together on a graph. These loss curves give us a better insight into how the learning performance changes over the number of epochs and help us diagnose any problems with learning that can lead to an underfit or an overfit model.  The training loss indicates how well the model is fitting the training data, while the validation loss indicates how well the model fits new data.\n",
        "\n",
        "Your model is underfitting the training data when the model performs poorly on the training data. This is because the model is unable to capture the relationship between the input and the target values. Your model is overfitting your training data when you see that the model performs well on the training data but does not perform well on the evaluation data. This is because the model is memorizing the data it has seen and is unable to generalize to unseen examples.\n",
        "\n",
        "For more details on using the training and validation loss curves to diagnose the learning performance of a model, you can refer to the following source: [Loss Curve](https://machinelearningmastery.com/learning-curves-for-diagnosing-machine-learning-model-performance/)\n",
        "\n",
        "Bias and variance are both errors that can affect a model's ability to make accurate predictions:\n",
        "\n",
        "`Bias`\n",
        "- Occurs when a model's assumptions are incorrect, resulting in biased decisions. Bias can be caused by incomplete or biased data, or other factors that make the training data unrepresentative. For example, a model trained on data that only includes male employees may not be able to accurately predict the performance of female employees.\n",
        "\n",
        "`Variance`\n",
        "- Occurs when a model is too sensitive to fluctuations in the training data, resulting in an overly complex model. This can cause the model to capture noise in the data instead of the underlying pattern, leading to poor generalization to new data.\n",
        "\n",
        "The ideal scenario is to have low bias and low variance\n",
        "\n",
        "`Underfitting Reasons`\n",
        "1.\tHigh bias and low variance.\n",
        "2.\tThe model is too simple, so it may not be capable to represent the complexities in the data.\n",
        "3.\tThe input features, which is used to train the model, is not an adequate representation of underlying factors influencing the target variable.\n",
        "4.\tThe size of the training dataset used is not enough.\n",
        "5.\tExcessive regularizations are used to prevent the overfitting, which constraints the model from capturing the data well.\n",
        "6.\tFeatures are not scaled\n",
        "\n",
        "`Reducing Underfitting`\n",
        "1.\tIncrease model complexity\n",
        "2.\tIncrease the number of features, perform featuring engineering. Refer to Week 4.\n",
        "3.\tRemove noise from the data.\n",
        "4.\tIncrease the number of epochs or increase the training duration.\n",
        "\n",
        "`Overfitting Reasons`\n",
        "1.\tHigh variance and low bias.\n",
        "2.\tThe model is too complex.\n",
        "3.\tThe size of the training data\n",
        "\n",
        "`Reducing Overfitting`\n",
        "1.\tImprove the quality of the training data to reduce overfitting: Focus on meaningful patterns, Mitigate the risk of fitting the noise or irrelevant features\n",
        "2.\tIncreasing the training data can improve the model’s ability to generalize to unseen data and reduce the likelihood of overfitting.\n",
        "3.\tReduce the model’s complexity.\n",
        "4.\tUse Ridge and Lasso Regularization\n",
        "5.\tUse Dropout for NNets\n",
        "\n"
      ]
    },
    {
      "cell_type": "code",
      "execution_count": null,
      "id": "8f99b1af",
      "metadata": {
        "id": "8f99b1af",
        "colab": {
          "base_uri": "https://localhost:8080/",
          "height": 470
        },
        "outputId": "d8cbe46b-587e-4e92-d93c-876b90a3f52b"
      },
      "outputs": [
        {
          "output_type": "execute_result",
          "data": {
            "text/plain": [
              "<matplotlib.legend.Legend at 0x7bfc3e327b50>"
            ]
          },
          "metadata": {},
          "execution_count": 35
        },
        {
          "output_type": "display_data",
          "data": {
            "text/plain": [
              "<Figure size 640x480 with 1 Axes>"
            ],
            "image/png": "[encoded data removed]"
          },
          "metadata": {
            "image/png": {
              "width": 569,
              "height": 435
            }
          }
        }
      ],
      "source": [
        "plt.plot(train_losses_lauc, label='Training')\n",
        "plt.plot(valid_losses_lauc, label='Validation')\n",
        "plt.ylabel('LAUC Model Loss [arb. units]', size=12)\n",
        "plt.xlabel('Epoch', size=12)\n",
        "plt.legend(frameon=False)"
      ]
    },
    {
      "cell_type": "code",
      "execution_count": null,
      "id": "8969bc27-112c-49a7-9643-d7333b271b37",
      "metadata": {
        "id": "8969bc27-112c-49a7-9643-d7333b271b37",
        "scrolled": true,
        "colab": {
          "base_uri": "https://localhost:8080/"
        },
        "outputId": "d279f5eb-a951-470c-d5f4-5ed5848927fd"
      },
      "outputs": [
        {
          "output_type": "stream",
          "name": "stdout",
          "text": [
            "Best Valid AUC:  0.967576\n",
            "Best Valid LAUC: 0.780248\n"
          ]
        }
      ],
      "source": [
        "print(f\"Best Valid AUC:  {best_valid_auc:.6f}\\nBest Valid LAUC: {best_valid_lauc:.6f}\")"
      ]
    },
    {
      "cell_type": "markdown",
      "id": "f41a1fe8",
      "metadata": {
        "id": "f41a1fe8"
      },
      "source": [
        "### Save Models <font color='red'>(**Do Not Modify**)</font>\n",
        "\n",
        "A common way to save a model is to serialize the internal state dictionary (containing the model parameters)"
      ]
    },
    {
      "cell_type": "code",
      "source": [
        "# Handle num_hidden_units being a list or an integer\n",
        "if isinstance(num_hidden_units, list):\n",
        "    num_hidden_units_str = \"-\".join(map(str, num_hidden_units))\n",
        "else:\n",
        "    num_hidden_units_str = str(num_hidden_units)"
      ],
      "metadata": {
        "id": "z60g-P7k_ZJa"
      },
      "id": "z60g-P7k_ZJa",
      "execution_count": null,
      "outputs": []
    },
    {
      "cell_type": "code",
      "execution_count": null,
      "id": "8c1fabc8-ba18-4a88-bc8f-70d4b5d36dff",
      "metadata": {
        "id": "8c1fabc8-ba18-4a88-bc8f-70d4b5d36dff",
        "colab": {
          "base_uri": "https://localhost:8080/"
        },
        "outputId": "8a2f61aa-5eb3-4367-fd2a-40eae7aae3ff"
      },
      "outputs": [
        {
          "output_type": "stream",
          "name": "stdout",
          "text": [
            "Best LAUC Model Saved Location: /content/drive/MyDrive/FICO Analytic Challenge/Model/model_best_valid_lauc.4nodes.scaler.pt\n"
          ]
        }
      ],
      "source": [
        "laucModel = os.path.join(model_path, f\"model_best_valid_lauc.{num_hidden_units_str}nodes.{scaleFilePrefix}.pt\")\n",
        "torch.save(model_dict[\"best_valid_lauc\"], laucModel) # save the model\n",
        "print(f'Best LAUC Model Saved Location: {laucModel}')"
      ]
    },
    {
      "cell_type": "code",
      "execution_count": null,
      "id": "a39d1c01-349e-4373-be71-7471a61df049",
      "metadata": {
        "id": "a39d1c01-349e-4373-be71-7471a61df049",
        "colab": {
          "base_uri": "https://localhost:8080/"
        },
        "outputId": "0d93febe-aca4-4976-94eb-eb9dec70536d"
      },
      "outputs": [
        {
          "output_type": "stream",
          "name": "stdout",
          "text": [
            "Best AUC Model Saved Location: /content/drive/MyDrive/FICO Analytic Challenge/Model/model_best_valid_auc.4nodes.scaler.pt\n"
          ]
        }
      ],
      "source": [
        "aucModel = os.path.join(model_path, f\"model_best_valid_auc.{num_hidden_units_str}nodes.{scaleFilePrefix}.pt\")\n",
        "torch.save(model_dict[\"best_valid_auc\"], aucModel) # save the model\n",
        "print(f'Best AUC Model Saved Location: {aucModel}')"
      ]
    },
    {
      "cell_type": "code",
      "execution_count": null,
      "id": "281f6929-1f8b-4953-96b1-1d713002fc0f",
      "metadata": {
        "id": "281f6929-1f8b-4953-96b1-1d713002fc0f",
        "colab": {
          "base_uri": "https://localhost:8080/"
        },
        "outputId": "a150403d-73ec-42a4-f860-e65ed901485b"
      },
      "outputs": [
        {
          "output_type": "stream",
          "name": "stdout",
          "text": [
            "Best Loss Model Saved Location: /content/drive/MyDrive/FICO Analytic Challenge/Model/model_best_valid_loss.4nodes.scaler.pt\n"
          ]
        }
      ],
      "source": [
        "lossModel = os.path.join(model_path, f\"model_best_valid_loss.{num_hidden_units_str}nodes.{scaleFilePrefix}.pt\")\n",
        "torch.save(model_dict[\"best_valid_loss\"], lossModel) # save the model\n",
        "print(f'Best Loss Model Saved Location: {lossModel}')"
      ]
    },
    {
      "cell_type": "code",
      "execution_count": null,
      "id": "3eb751a7",
      "metadata": {
        "id": "3eb751a7",
        "colab": {
          "base_uri": "https://localhost:8080/"
        },
        "outputId": "4cf023d0-76cc-4e75-d658-f64fe1192471"
      },
      "outputs": [
        {
          "output_type": "stream",
          "name": "stdout",
          "text": [
            "Total Memory used by Notebook: 2885.24 MB\n"
          ]
        }
      ],
      "source": [
        "# These are the usual ipython objects\n",
        "ipython_vars = [\"In\", \"Out\", \"exit\", \"quit\", \"get_ipython\", \"ipython_vars\"]\n",
        "\n",
        "# Get a sorted list of the objects and their sizes\n",
        "mem = {\n",
        "    key: value\n",
        "    for key, value in sorted(\n",
        "        [\n",
        "            (x, sys.getsizeof(globals().get(x)))\n",
        "            for x in dir()\n",
        "            if not x.startswith(\"_\") and x not in sys.modules and x not in ipython_vars\n",
        "        ],\n",
        "        key=lambda x: x[1],\n",
        "        reverse=True,\n",
        "    )\n",
        "}\n",
        "\n",
        "total_mem_usage = sum(mem.values()) / (1024 ** 2)\n",
        "print(f\"Total Memory used by Notebook: {total_mem_usage:.2f} MB\")"
      ]
    },
    {
      "cell_type": "markdown",
      "id": "263cc52e",
      "metadata": {
        "id": "263cc52e"
      },
      "source": [
        "### Predictions on Dataset using Trained Model <font color='red'>(**Do Not Modify**)</font>\n",
        "\n",
        "Once the model is trained, we need to test is on a dataset that it hasn't seen, which we call the holdout set. The new dataset needs to be scaled to the trained model’s scaled dataset it was trained on. Once done, the process, where we use DataLoader to help process the data, and feed it to the imported model follows. Once done, the new dataset’s inputs (not the ones from DataLoader) need to be inverse_scaled back to their original values."
      ]
    },
    {
      "cell_type": "code",
      "execution_count": null,
      "id": "3372f3eb",
      "metadata": {
        "id": "3372f3eb"
      },
      "outputs": [],
      "source": [
        "# load the scaler\n",
        "scaler = load(open(scaleFile, 'rb'))\n",
        "\n",
        "# Load Dataset\n",
        "df_features_train = import_df(trainCSV)\n",
        "df_features_test = import_df(testCSV)\n",
        "\n",
        "# # Get list of feature columns, base columns and label column\n",
        "# feature_columns, label_column, base_cols = get_feature_cols(df_features_train, trainFile)\n",
        "\n",
        "# # Add the feature columns you want to remove as inputs in model to the list below\n",
        "# columnsToRemove = ['transactionHour']\n",
        "\n",
        "# feature_columns_original = feature_columns.copy()\n",
        "# for col in columnsToRemove:\n",
        "#   feature_columns.remove(col)\n",
        "\n",
        "# Scale dataset\n",
        "df_features_train[feature_columns] = scaler.transform(df_features_train[feature_columns])\n",
        "df_features_test[feature_columns] = scaler.transform(df_features_test[feature_columns])"
      ]
    },
    {
      "cell_type": "code",
      "execution_count": null,
      "id": "ae7ae33f-4897-4b4d-88cc-a04606974c89",
      "metadata": {
        "id": "ae7ae33f-4897-4b4d-88cc-a04606974c89"
      },
      "outputs": [],
      "source": [
        "# Load Train set to Pytorch DataLoader\n",
        "eval_dataset_train = MyDataset(df_features_train[feature_columns].values, df_features_train[label_column].values)\n",
        "eval_loader_train = DataLoader(eval_dataset_train, batch_size=256, shuffle=False, drop_last=False)\n",
        "\n",
        "# Load Test set to Pytorch DataLoader\n",
        "eval_dataset_test = MyDataset(df_features_test[feature_columns].values, df_features_test[label_column].values)\n",
        "eval_loader_test = DataLoader(eval_dataset_test, batch_size=256, shuffle=False, drop_last=False)"
      ]
    },
    {
      "cell_type": "code",
      "execution_count": null,
      "metadata": {
        "id": "r9X-bXcMh5f1"
      },
      "outputs": [],
      "source": [
        "#hyper-parameters\n",
        "num_hidden_units = 4"
      ],
      "id": "r9X-bXcMh5f1"
    },
    {
      "cell_type": "code",
      "source": [
        "# Handle num_hidden_units being a list or an integer\n",
        "if isinstance(num_hidden_units, list):\n",
        "    num_hidden_units_str = \"-\".join(map(str, num_hidden_units))\n",
        "else:\n",
        "    num_hidden_units_str = str(num_hidden_units)"
      ],
      "metadata": {
        "id": "l_7EqBxN_37e"
      },
      "id": "l_7EqBxN_37e",
      "execution_count": null,
      "outputs": []
    },
    {
      "cell_type": "code",
      "execution_count": null,
      "id": "93b699fb",
      "metadata": {
        "id": "93b699fb",
        "colab": {
          "base_uri": "https://localhost:8080/"
        },
        "outputId": "f226684c-9d22-41b4-acc0-ac1d51224ce9"
      },
      "outputs": [
        {
          "output_type": "execute_result",
          "data": {
            "text/plain": [
              "NNet(\n",
              "  (layers): ModuleList(\n",
              "    (0): Linear(in_features=33, out_features=4, bias=True)\n",
              "    (1): Linear(in_features=4, out_features=1, bias=True)\n",
              "  )\n",
              "  (batch_norms): ModuleList(\n",
              "    (0): BatchNorm1d(4, eps=1e-05, momentum=0.1, affine=True, track_running_stats=True)\n",
              "  )\n",
              "  (dropouts): ModuleList(\n",
              "    (0): Dropout(p=0.2, inplace=False)\n",
              "  )\n",
              "  (tanh): Tanh()\n",
              "  (sigmoid): Sigmoid()\n",
              ")"
            ]
          },
          "metadata": {},
          "execution_count": 46
        }
      ],
      "source": [
        "# Import the best LAUC Model\n",
        "laucModel = os.path.join(model_path, f\"model_best_valid_lauc.{num_hidden_units_str}nodes.{scaleFilePrefix}.pt\")\n",
        "\n",
        "# Load the entire model\n",
        "model_l = torch.load(laucModel, weights_only=False)\n",
        "model_l.to(device)\n",
        "model_l.eval()"
      ]
    },
    {
      "cell_type": "markdown",
      "id": "7ed56c2c",
      "metadata": {
        "id": "7ed56c2c"
      },
      "source": [
        "### Score outs <font color='red'>(**Do Not Modify**)</font>\n",
        "\n",
        "The model outputs (or predictions) a probabilistic likelihood for each record, but that doesn't give us much information. The predicted values can range between $-\\infty$ and $+\\infty$, which isn't meaningful. After running data through the trained model, the next step is to take the predicted values and convert them to a scoring range between $1$ and $999$ and store them into a new column. These scores will be used in the metric calculations, which we'll talk more about next week."
      ]
    },
    {
      "cell_type": "code",
      "execution_count": null,
      "id": "4c5cf8cc-72ff-4cf6-8932-452a1ef53ec4",
      "metadata": {
        "id": "4c5cf8cc-72ff-4cf6-8932-452a1ef53ec4"
      },
      "outputs": [],
      "source": [
        "df_features_train = scoreouts(df_features_train, model_l, eval_loader_train, device, ypredName='y_preds', scoreName='score')\n",
        "df_features_test = scoreouts(df_features_test, model_l, eval_loader_test, device, ypredName='y_preds', scoreName='score')"
      ]
    },
    {
      "cell_type": "code",
      "source": [
        "print(\"\\033[1mNNet\\033[0m\")\n",
        "dataset_count(df_features_train, df_isTrain=True)"
      ],
      "metadata": {
        "id": "DiydIrCnatJ8",
        "colab": {
          "base_uri": "https://localhost:8080/"
        },
        "outputId": "5d7f7667-3a22-457c-8f6c-9a2ab194c42f"
      },
      "id": "DiydIrCnatJ8",
      "execution_count": null,
      "outputs": [
        {
          "output_type": "stream",
          "name": "stdout",
          "text": [
            "\u001b[1mNNet\u001b[0m\n",
            "\u001b[1;32mTrain Set\u001b[0m\n",
            "\u001b[1;31m# of Unique PANs\u001b[0m = 1042\n",
            "# of NF and F Accounts = 1042\n",
            "# of Non-Fraud Accounts = 411\n",
            "# of Fraud Accounts = 631\n",
            "----------\n",
            "# of Transactions = 1050475\n",
            "# of Non-Fraud Transactions = 1043500\n",
            "# of Fraud Transactions = 6975\n",
            "----------\n",
            "\u001b[1;34mAccount Level\u001b[0m Fraud Rate = 0.6056\n",
            "\u001b[1;34mTransaction level\u001b[0m Fraud Rate = 0.0066\n",
            "# of Fraud Transactions / # of Fraud Accounts = 11.0539\n"
          ]
        }
      ]
    },
    {
      "cell_type": "code",
      "source": [
        "print(\"\\033[1mNNet\\033[0m\")\n",
        "dataset_count(df_features_test, df_isTrain=False)"
      ],
      "metadata": {
        "id": "YSO9yF8Ean88",
        "colab": {
          "base_uri": "https://localhost:8080/"
        },
        "outputId": "0f1bd6d3-eeae-481f-c497-1a05d5c7e8c5"
      },
      "id": "YSO9yF8Ean88",
      "execution_count": null,
      "outputs": [
        {
          "output_type": "stream",
          "name": "stdout",
          "text": [
            "\u001b[1mNNet\u001b[0m\n",
            "\u001b[1;32mTest Set\u001b[0m\n",
            "\u001b[1;31m# of Unique PANs\u001b[0m = 510\n",
            "# of NF and F Accounts = 510\n",
            "# of Non-Fraud Accounts = 244\n",
            "# of Fraud Accounts = 266\n",
            "----------\n",
            "# of Transactions = 561005\n",
            "# of Non-Fraud Transactions = 558481\n",
            "# of Fraud Transactions = 2524\n",
            "----------\n",
            "\u001b[1;34mAccount Level\u001b[0m Fraud Rate = 0.5216\n",
            "\u001b[1;34mTransaction level\u001b[0m Fraud Rate = 0.0045\n",
            "# of Fraud Transactions / # of Fraud Accounts = 9.4887\n"
          ]
        }
      ]
    },
    {
      "cell_type": "code",
      "execution_count": null,
      "id": "59bf2cc8",
      "metadata": {
        "id": "59bf2cc8"
      },
      "outputs": [],
      "source": [
        "# Apply inverse transformation for the input data\n",
        "df_features_train[feature_columns] = scaler.inverse_transform(df_features_train[feature_columns])\n",
        "df_features_test[feature_columns] = scaler.inverse_transform(df_features_test[feature_columns])"
      ]
    },
    {
      "cell_type": "markdown",
      "id": "10e75515",
      "metadata": {
        "id": "10e75515"
      },
      "source": [
        "### Features to Save <font color='red'>(**Do Not Modify**)</font>"
      ]
    },
    {
      "cell_type": "code",
      "execution_count": null,
      "id": "d2d6f799",
      "metadata": {
        "id": "d2d6f799",
        "colab": {
          "base_uri": "https://localhost:8080/"
        },
        "outputId": "7b8a6b1a-7aa4-4798-b6ca-b06e32716ea2"
      },
      "outputs": [
        {
          "output_type": "stream",
          "name": "stdout",
          "text": [
            "Features to save: ['merchCountry', 'gender', 'merch_long', 'zip', 'mdlIsFraudTrx', 'deltaTime', 'mdlIsFraudAcct', 'transactionDateTime', 'street', 'city_pop', 'cardholderState', 'pan', 'merchState', 'unix_time', 'lat', 'merchant', 'first', 'long', 'trans_num', 'last', 'job', 'dob', 'category', 'merch_lat', 'cardholderCountry', 'transactionAmount', 'is_train', 'IsHighValue', 'RelativeAmount', 'amount_diff', 'amt_trend_24h', 'amt_trend_5e', 'category_ratio', 'count_trend_1h', 'is_CNP', 'is_CP', 'is_high_amount', 'is_high_inperson', 'is_high_merch_country', 'is_high_online', 'is_high_person', 'is_high_repeat_amount', 'is_high_trans_freq', 'is_high_trans_freq_user_avg_vol', 'is_high_transaction_amount', 'is_high_transaction_amount_user_avg', 'is_high_volume', 'is_international', 'is_late_night', 'num_hi_amt_last_hour', 'num_last_24_hours', 'num_transactions', 'repeat_amt', 'transactionFrequency', 'transactionHour', 'user_avg_amount', 'user_avg_amount_month', 'user_avg_amount_week', 'user_avg_volume', 'user_avg_volume_month', 'user_avg_volume_week', 'y_preds', 'score']\n"
          ]
        }
      ],
      "source": [
        "# Columns to save\n",
        "saveColumns = [*base_cols, *feature_columns_original, *scoring_columns]\n",
        "print(f\"Features to save: {saveColumns}\")"
      ]
    },
    {
      "cell_type": "markdown",
      "id": "5JsTLYpYum-1",
      "metadata": {
        "id": "5JsTLYpYum-1"
      },
      "source": [
        "## Save Results to Output File <font color='red'>(**Do Not Modify**)</font>"
      ]
    },
    {
      "cell_type": "code",
      "execution_count": null,
      "id": "f89a3a87",
      "metadata": {
        "id": "f89a3a87"
      },
      "outputs": [],
      "source": [
        "# Train set\n",
        "df_features_train[saveColumns].to_csv(trainsaveCSV, index=False)\n",
        "\n",
        "# Test set\n",
        "df_features_test[saveColumns].to_csv(testsaveCSV, index=False)"
      ]
    },
    {
      "cell_type": "markdown",
      "id": "377d2298",
      "metadata": {
        "id": "377d2298"
      },
      "source": [
        "## Exercises\n",
        "\n",
        "1. Train a Neural Network model on the same variable set used for your Week 5 LogReg\n",
        "\t<ol type=\"a\">\n",
        "    <li>What is the best test LAUC? </li>\n",
        "\t<li>What was the train LAUC for this model?</li>\n",
        "\t<li>Plot the ROC on the train and test set and explain the results</li>\n",
        "\t</ol>"
      ]
    },
    {
      "cell_type": "markdown",
      "id": "Yyq_T_pouz3p",
      "metadata": {
        "id": "Yyq_T_pouz3p"
      },
      "source": [
        "## Data Needed for ROC Plot <font color='red'>(**Do Not Modify**)</font>"
      ]
    },
    {
      "cell_type": "code",
      "execution_count": null,
      "id": "D5Z5CbX6W5Lw",
      "metadata": {
        "id": "D5Z5CbX6W5Lw"
      },
      "outputs": [],
      "source": [
        "# Data for ROC AUC comparison\n",
        "y_test_score = df_features_test[df_features_test['is_train'] == 0]['score']\n",
        "y_test = df_features_test[df_features_test['is_train'] == 0]['mdlIsFraudTrx']\n",
        "\n",
        "y_train_score = df_features_train[df_features_train['is_train'] == 1]['score']\n",
        "y_train = df_features_train[df_features_train['is_train'] == 1]['mdlIsFraudTrx']"
      ]
    },
    {
      "cell_type": "code",
      "execution_count": null,
      "id": "WNBFnckgYOt0",
      "metadata": {
        "id": "WNBFnckgYOt0",
        "colab": {
          "base_uri": "https://localhost:8080/",
          "height": 507
        },
        "outputId": "52f7d827-7823-4def-a149-dc1ee14e3622"
      },
      "outputs": [
        {
          "output_type": "stream",
          "name": "stdout",
          "text": [
            "With a Non-Fraud Capture Rate of 0.005 (i.e., 0.50%), the Frauds we're capturing in the Train Data is = 52.172%\n",
            "With a Non-Fraud Capture Rate of 0.005 (i.e., 0.50%), the Frauds we're capturing in the Test Data is  = 51.109%\n"
          ]
        },
        {
          "output_type": "display_data",
          "data": {
            "text/plain": [
              "<Figure size 640x480 with 1 Axes>"
            ],
            "image/png": "[encoded data removed]"
          },
          "metadata": {
            "image/png": {
              "width": 587,
              "height": 454
            }
          }
        }
      ],
      "source": [
        "# Run the code below to produce the plot\n",
        "plotROC(y_train, y_train_score, y_test, y_test_score, trainFile, testFile, model='All Features', target_nonfraud_rate=0.005)"
      ]
    },
    {
      "cell_type": "code",
      "source": [],
      "metadata": {
        "id": "B4_pbE1Ju743"
      },
      "id": "B4_pbE1Ju743",
      "execution_count": null,
      "outputs": []
    }
  ],
  "metadata": {
    "colab": {
      "provenance": [],
      "include_colab_link": true
    },
    "kernelspec": {
      "display_name": "Python 3",
      "name": "python3"
    },
    "language_info": {
      "codemirror_mode": {
        "name": "ipython",
        "version": 3
      },
      "file_extension": ".py",
      "mimetype": "text/x-python",
      "name": "python",
      "nbconvert_exporter": "python",
      "pygments_lexer": "ipython3",
      "version": "3.11.5"
    }
  },
  "nbformat": 4,
  "nbformat_minor": 5
}